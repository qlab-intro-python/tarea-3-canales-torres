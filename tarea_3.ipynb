{
 "cells": [
  {
   "cell_type": "markdown",
   "metadata": {},
   "source": [
    "# **Tarea Nº 3**\n",
    "Scope: If, Loops, Functions"
   ]
  },
  {
   "cell_type": "markdown",
   "metadata": {},
   "source": [
    "Curso:          Fundamentos de Programación en Python para Macroeconomía y Finanzas     \n",
    "Profesor:       Victor Fuentes Campos     "
   ]
  },
  {
   "cell_type": "markdown",
   "metadata": {},
   "source": [
    "- Fecha y hora de entrega: Miércoles 10 de enero, 11:59am\n",
    "- Agregue los nombres de las personas con las que discutió esta tarea: ____ Nestor Canales / Adriana Torres ______\n",
    "- Envíe su tarea haciendo el `push` de su código a su repo en GitHub Classroom: "
   ]
  },
  {
   "cell_type": "markdown",
   "metadata": {},
   "source": [
    "As of 2022 Q2, there are almost 3.5 million Andriod apps on Google Play and 1.6 million iOS apps on the App Store, and counting. Giving the digital revolution, there is an increase interest in investment opportunities in this sector\n",
    "\n",
    "<img src=\"popular_app_stores.png\" max-width=\"300\">\n",
    "\n",
    "Under this context, you will assess a financial committee interested in investing in software development. The goal is to determine the kinds of apps that are likely to attract more users because the number of people using our apps affect our revenue. For this purpose, you will access to data from Google Play and App Store.\n",
    "\n",
    "- Google Play: you can dowload the dataset containing approximately 11k Android apps from [this link](https://dq-content.s3.amazonaws.com/350/googleplaystore.csv). It was collected in August 2018\n",
    "- App Store: you can dowload the dataset containing roughly 7k iOS apps from [this link](https://dq-content.s3.amazonaws.com/350/AppleStore.csv). It was collected in July 2017"
   ]
  },
  {
   "cell_type": "markdown",
   "metadata": {},
   "source": [
    "## Exploring data"
   ]
  },
  {
   "cell_type": "markdown",
   "metadata": {},
   "source": [
    "1. Open the two datasets we mentioned above, and save both as lists of lists"
   ]
  },
  {
   "cell_type": "code",
   "execution_count": 7,
   "metadata": {},
   "outputs": [],
   "source": [
    "# Solution\n",
    "import csv\n",
    "f = open(\"F:/NESTOR/CV/Cursos/Fundamentos de Programación en Python para Macroeconomía y Finanzas/tarea-3-canales-torres/AppleStore.csv\", \"r\")\n",
    "Apple = list(csv.reader(f))"
   ]
  },
  {
   "cell_type": "code",
   "execution_count": 8,
   "metadata": {},
   "outputs": [],
   "source": [
    "g = open(\"F:/NESTOR/CV/Cursos/Fundamentos de Programación en Python para Macroeconomía y Finanzas/tarea-3-canales-torres/googleplaystore.csv\", \"r\")\n",
    "google = list(csv.reader(g))"
   ]
  },
  {
   "cell_type": "markdown",
   "metadata": {},
   "source": [
    "2. Print the first few rows of each dataset and find the number of rows and columns of each dataset"
   ]
  },
  {
   "cell_type": "code",
   "execution_count": 9,
   "metadata": {},
   "outputs": [
    {
     "name": "stdout",
     "output_type": "stream",
     "text": [
      "[['id', 'track_name', 'size_bytes', 'currency', 'price', 'rating_count_tot', 'rating_count_ver', 'user_rating', 'user_rating_ver', 'ver', 'cont_rating', 'prime_genre', 'sup_devices.num', 'ipadSc_urls.num', 'lang.num', 'vpp_lic'], ['284882215', 'Facebook', '389879808', 'USD', '0.0', '2974676', '212', '3.5', '3.5', '95.0', '4+', 'Social Networking', '37', '1', '29', '1'], ['389801252', 'Instagram', '113954816', 'USD', '0.0', '2161558', '1289', '4.5', '4.0', '10.23', '12+', 'Photo & Video', '37', '0', '29', '1'], ['529479190', 'Clash of Clans', '116476928', 'USD', '0.0', '2130805', '579', '4.5', '4.5', '9.24.12', '9+', 'Games', '38', '5', '18', '1'], ['420009108', 'Temple Run', '65921024', 'USD', '0.0', '1724546', '3842', '4.5', '4.0', '1.6.2', '9+', 'Games', '40', '5', '1', '1'], ['284035177', 'Pandora - Music & Radio', '130242560', 'USD', '0.0', '1126879', '3594', '4.0', '4.5', '8.4.1', '12+', 'Music', '37', '4', '1', '1'], ['429047995', 'Pinterest', '74778624', 'USD', '0.0', '1061624', '1814', '4.5', '4.0', '6.26', '12+', 'Social Networking', '37', '5', '27', '1']]\n",
      "\n",
      "\n",
      "[['App', 'Category', 'Rating', 'Reviews', 'Size', 'Installs', 'Type', 'Price', 'Content Rating', 'Genres', 'Last Updated', 'Current Ver', 'Android Ver'], ['Photo Editor & Candy Camera & Grid & ScrapBook', 'ART_AND_DESIGN', '4.1', '159', '19M', '10,000+', 'Free', '0', 'Everyone', 'Art & Design', 'January 7, 2018', '1.0.0', '4.0.3 and up'], ['Coloring book moana', 'ART_AND_DESIGN', '3.9', '967', '14M', '500,000+', 'Free', '0', 'Everyone', 'Art & Design;Pretend Play', 'January 15, 2018', '2.0.0', '4.0.3 and up'], ['U Launcher Lite – FREE Live Cool Themes, Hide Apps', 'ART_AND_DESIGN', '4.7', '87510', '8.7M', '5,000,000+', 'Free', '0', 'Everyone', 'Art & Design', 'August 1, 2018', '1.2.4', '4.0.3 and up'], ['Sketch - Draw & Paint', 'ART_AND_DESIGN', '4.5', '215644', '25M', '50,000,000+', 'Free', '0', 'Teen', 'Art & Design', 'June 8, 2018', 'Varies with device', '4.2 and up'], ['Pixel Draw - Number Art Coloring Book', 'ART_AND_DESIGN', '4.3', '967', '2.8M', '100,000+', 'Free', '0', 'Everyone', 'Art & Design;Creativity', 'June 20, 2018', '1.1', '4.4 and up'], ['Paper flowers instructions', 'ART_AND_DESIGN', '4.4', '167', '5.6M', '50,000+', 'Free', '0', 'Everyone', 'Art & Design', 'March 26, 2017', '1.0', '2.3 and up']]\n",
      "\n",
      "\n",
      "App Store tiene 7197 filas\n",
      "Google Play tiene 10841 filas\n",
      "App Store tiene 16 columnas\n",
      "Google Play tiene 13 columnas\n"
     ]
    }
   ],
   "source": [
    "# Solution\n",
    "print(Apple[0:7])\n",
    "print(\"\\n\")\n",
    "print(google[0:7])\n",
    "print(\"\\n\")\n",
    "print(\"App Store tiene \" + str(len(Apple)-1) + \" filas\") # Resto 1 para que no cuente el encabezado\n",
    "print(\"Google Play tiene \" + str(len(google)-1) + \" filas\")\n",
    "print(\"App Store tiene \" + str(len(Apple[0][:])) + \" columnas\")\n",
    "print(\"Google Play tiene \" + str(len(google[0][:])) + \" columnas\")"
   ]
  },
  {
   "cell_type": "markdown",
   "metadata": {},
   "source": [
    "For more info about the columns in the App Store dataset, visit [this link](https://www.kaggle.com/datasets/ramamet4/app-store-apple-data-set-10k-apps?select=AppleStore.csv)"
   ]
  },
  {
   "cell_type": "markdown",
   "metadata": {},
   "source": [
    "## Preparing data"
   ]
  },
  {
   "cell_type": "markdown",
   "metadata": {},
   "source": [
    "3. As noted before in the [discussion forum](https://www.kaggle.com/datasets/lava18/google-play-store-apps/discussion/66015), there is an error in the Google Play dataset. Please, remove the entry 10472 and explain shortly why"
   ]
  },
  {
   "cell_type": "code",
   "execution_count": 10,
   "metadata": {},
   "outputs": [
    {
     "name": "stdout",
     "output_type": "stream",
     "text": [
      "['App', 'Category', 'Rating', 'Reviews', 'Size', 'Installs', 'Type', 'Price', 'Content Rating', 'Genres', 'Last Updated', 'Current Ver', 'Android Ver']\n",
      "13 \n",
      "\n",
      "['Life Made WI-Fi Touchscreen Photo Frame', '1.9', '19', '3.0M', '1,000+', 'Free', '0', 'Everyone', '', 'February 11, 2018', '1.0.19', '4.0 and up']\n",
      "Index postion is: 10472\n",
      "\n",
      "\n",
      "[['Xposed Wi-Fi-Pwd', 'PERSONALIZATION', '3.5', '1042', '404k', '100,000+', 'Free', '0', 'Everyone', 'Personalization', 'August 5, 2014', '3.0.0', '4.0.3 and up'], ['osmino Wi-Fi: free WiFi', 'TOOLS', '4.2', '134203', '4.1M', '10,000,000+', 'Free', '0', 'Everyone', 'Tools', 'August 7, 2018', '6.06.14', '4.4 and up'], ['Sat-Fi Voice', 'COMMUNICATION', '3.4', '37', '14M', '1,000+', 'Free', '0', 'Everyone', 'Communication', 'November 21, 2014', '2.2.1.5', '2.2 and up']]\n",
      "\n",
      "\n",
      "Se debe eliminar porque hay un dato faltante, podemos observar que esa fila solo tiene 12 elementos.\n",
      "Dado que no sabemos cómo está ordenada la información, no sabemos si es factible reemplazarla según alguna métrica descriptiva como la mediana, así como mantener un valor nulo, se procede a eliminar dicha fila.\n"
     ]
    }
   ],
   "source": [
    "# Solution\n",
    "android_header = google[0]\n",
    "print(google[0])\n",
    "print(len(android_header),\"\\n\")\n",
    "for row in google[1:]:\n",
    "    if len(row) != len(android_header):\n",
    "        print(row)\n",
    "        print(\"Index postion is:\", google.index(row) -1) # Se resta 1 porque el índice empieza desde 0, por lo que el verdadero índice se encuentra restando.\n",
    "print(\"\\n\")\n",
    "del google[10473]\n",
    "print(google[10472:10475])\n",
    "print(\"\\n\")\n",
    "print(\"Se debe eliminar porque hay un dato faltante, podemos observar que esa fila solo tiene 12 elementos.\")\n",
    "print(\"Dado que no sabemos cómo está ordenada la información, no sabemos si es factible reemplazarla según alguna métrica descriptiva como la mediana, así como mantener un valor nulo, se procede a eliminar dicha fila.\")"
   ]
  },
  {
   "cell_type": "markdown",
   "metadata": {},
   "source": [
    "4. Count the number of duplicates in the Google Play dataset. You must build a function to loop through the Google Play dataset"
   ]
  },
  {
   "cell_type": "code",
   "execution_count": 11,
   "metadata": {},
   "outputs": [
    {
     "name": "stdout",
     "output_type": "stream",
     "text": [
      "Listas internas duplicadas y sus frecuencias:\n",
      "La lista ('Ebook Reader', 'BOOKS_AND_REFERENCE', '4.1', '85842', '37M', '5,000,000+', 'Free', '0', 'Everyone', 'Books & Reference', 'June 25, 2018', '5.0.6', '4.0 and up') aparece 2 veces.\n",
      "La lista ('Docs To Go™ Free Office Suite', 'BUSINESS', '4.1', '217730', 'Varies with device', '50,000,000+', 'Free', '0', 'Everyone', 'Business', 'April 2, 2018', 'Varies with device', 'Varies with device') aparece 2 veces.\n",
      "La lista ('Google My Business', 'BUSINESS', '4.4', '70991', 'Varies with device', '5,000,000+', 'Free', '0', 'Everyone', 'Business', 'July 24, 2018', '2.19.0.204537701', '4.4 and up') aparece 3 veces.\n",
      "La lista ('Box', 'BUSINESS', '4.2', '159872', 'Varies with device', '10,000,000+', 'Free', '0', 'Everyone', 'Business', 'July 31, 2018', 'Varies with device', 'Varies with device') aparece 3 veces.\n",
      "La lista ('ZOOM Cloud Meetings', 'BUSINESS', '4.4', '31614', '37M', '10,000,000+', 'Free', '0', 'Everyone', 'Business', 'July 20, 2018', '4.1.28165.0716', '4.0 and up') aparece 2 veces.\n",
      "La lista ('Quick PDF Scanner + OCR FREE', 'BUSINESS', '4.2', '80805', 'Varies with device', '5,000,000+', 'Free', '0', 'Everyone', 'Business', 'February 26, 2018', 'Varies with device', '4.0.3 and up') aparece 2 veces.\n",
      "La lista ('SignEasy | Sign and Fill PDF and other Documents', 'BUSINESS', '4.3', '8978', 'Varies with device', '1,000,000+', 'Free', '0', 'Everyone', 'Business', 'July 25, 2018', 'Varies with device', 'Varies with device') aparece 2 veces.\n",
      "La lista ('Genius Scan - PDF Scanner', 'BUSINESS', '4.4', '42492', 'Varies with device', '1,000,000+', 'Free', '0', 'Everyone', 'Business', 'July 11, 2018', 'Varies with device', 'Varies with device') aparece 2 veces.\n",
      "La lista ('Tiny Scanner - PDF Scanner App', 'BUSINESS', '4.7', '286897', '39M', '10,000,000+', 'Free', '0', 'Everyone', 'Business', 'May 30, 2017', '1.2.6', '3.0 and up') aparece 2 veces.\n",
      "La lista ('Fast Scanner : Free PDF Scan', 'BUSINESS', '4.5', '103755', '14M', '10,000,000+', 'Free', '0', 'Everyone', 'Business', 'July 11, 2018', '3.9.2', '4.1 and up') aparece 2 veces.\n",
      "La lista ('Mobile Doc Scanner (MDScan) Lite', 'BUSINESS', '4.2', '46505', '19M', '1,000,000+', 'Free', '0', 'Everyone', 'Business', 'August 2, 2018', '3.4.49', '4.1 and up') aparece 2 veces.\n",
      "La lista ('TurboScan: scan documents and receipts in PDF', 'BUSINESS', '4.7', '11442', '6.8M', '100,000+', 'Paid', '$4.99', 'Everyone', 'Business', 'March 25, 2018', '1.5.2', '4.0 and up') aparece 2 veces.\n",
      "La lista ('Tiny Scanner Pro: PDF Doc Scan', 'BUSINESS', '4.8', '10295', '39M', '100,000+', 'Paid', '$4.99', 'Everyone', 'Business', 'April 11, 2017', '3.4.6', '3.0 and up') aparece 2 veces.\n",
      "La lista ('Zenefits', 'BUSINESS', '4.2', '296', '14M', '50,000+', 'Free', '0', 'Everyone', 'Business', 'June 15, 2018', '3.2.1', '4.1 and up') aparece 2 veces.\n",
      "La lista ('Google Ads', 'BUSINESS', '4.3', '29313', '20M', '5,000,000+', 'Free', '0', 'Everyone', 'Business', 'July 30, 2018', '1.12.0', '4.0.3 and up') aparece 2 veces.\n",
      "La lista ('Slack', 'BUSINESS', '4.4', '51507', 'Varies with device', '5,000,000+', 'Free', '0', 'Everyone', 'Business', 'August 2, 2018', 'Varies with device', 'Varies with device') aparece 2 veces.\n",
      "La lista ('FreshBooks Classic', 'BUSINESS', '4.1', '1802', '26M', '100,000+', 'Free', '0', 'Everyone', 'Business', 'April 18, 2018', '1.7.14', '4.2 and up') aparece 2 veces.\n",
      "La lista ('Insightly CRM', 'BUSINESS', '3.8', '1383', '51M', '100,000+', 'Free', '0', 'Everyone', 'Business', 'July 12, 2018', '3.24.1', '5.0 and up') aparece 2 veces.\n",
      "La lista ('QuickBooks Accounting: Invoicing & Expenses', 'BUSINESS', '4.3', '23175', '41M', '1,000,000+', 'Free', '0', 'Everyone', 'Business', 'July 13, 2018', '18.7', '4.1 and up') aparece 3 veces.\n",
      "La lista ('HipChat - Chat Built for Teams', 'BUSINESS', '3.8', '5868', '20M', '500,000+', 'Free', '0', 'Everyone', 'Business', 'July 3, 2018', '3.19.005', '4.1 and up') aparece 2 veces.\n",
      "La lista ('Xero Accounting Software', 'BUSINESS', '3.5', '2111', 'Varies with device', '100,000+', 'Free', '0', 'Everyone', 'Business', 'July 30, 2018', 'Varies with device', 'Varies with device') aparece 2 veces.\n",
      "La lista ('MailChimp - Email, Marketing Automation', 'BUSINESS', '4.1', '5448', '12M', '500,000+', 'Free', '0', 'Everyone', 'Business', 'July 25, 2018', '4.9.1', '5.0 and up') aparece 2 veces.\n",
      "La lista ('Crew - Free Messaging and Scheduling', 'BUSINESS', '4.6', '4159', '48M', '500,000+', 'Free', '0', 'Everyone', 'Business', 'July 20, 2018', '6.1.2', '4.0.3 and up') aparece 2 veces.\n",
      "La lista ('Asana: organize team projects', 'BUSINESS', '4.3', '20815', '10M', '1,000,000+', 'Free', '0', 'Everyone', 'Business', 'July 26, 2018', '6.4.4', '5.0 and up') aparece 2 veces.\n",
      "La lista ('Google Analytics', 'BUSINESS', '4.5', '78662', '22M', '1,000,000+', 'Free', '0', 'Everyone', 'Business', 'February 13, 2018', '3.7.5', '4.4 and up') aparece 2 veces.\n",
      "La lista ('AdWords Express', 'BUSINESS', '4.1', '7149', '11M', '1,000,000+', 'Free', '0', 'Everyone', 'Business', 'July 31, 2018', '2.6.158', '4.0 and up') aparece 2 veces.\n",
      "La lista ('Accounting App - Zoho Books', 'BUSINESS', '4.5', '3079', '8.5M', '100,000+', 'Free', '0', 'Everyone', 'Business', 'August 2, 2018', '5.20.7', '4.1 and up') aparece 2 veces.\n",
      "La lista ('Invoice & Time Tracking - Zoho', 'BUSINESS', '4.6', '5800', '8.6M', '100,000+', 'Free', '0', 'Everyone', 'Business', 'August 2, 2018', '5.20.7', '4.1 and up') aparece 2 veces.\n",
      "La lista ('join.me - Simple Meetings', 'BUSINESS', '4.0', '6989', 'Varies with device', '1,000,000+', 'Free', '0', 'Everyone', 'Business', 'July 16, 2018', '4.3.0.508', '4.4 and up') aparece 3 veces.\n",
      "La lista ('Invoice 2go — Professional Invoices and Estimates', 'BUSINESS', '4.2', '16422', '28M', '1,000,000+', 'Free', '0', 'Everyone', 'Business', 'August 1, 2018', '10.46.2', '4.1 and up') aparece 2 veces.\n",
      "La lista ('Messenger – Text and Video Chat for Free', 'COMMUNICATION', '4.0', '56642847', 'Varies with device', '1,000,000,000+', 'Free', '0', 'Everyone', 'Communication', 'August 1, 2018', 'Varies with device', 'Varies with device') aparece 2 veces.\n",
      "La lista ('WhatsApp Messenger', 'COMMUNICATION', '4.4', '69119316', 'Varies with device', '1,000,000,000+', 'Free', '0', 'Everyone', 'Communication', 'August 3, 2018', 'Varies with device', 'Varies with device') aparece 2 veces.\n",
      "La lista ('Gmail', 'COMMUNICATION', '4.3', '4604324', 'Varies with device', '1,000,000,000+', 'Free', '0', 'Everyone', 'Communication', 'August 2, 2018', 'Varies with device', 'Varies with device') aparece 2 veces.\n",
      "La lista ('imo beta free calls and text', 'COMMUNICATION', '4.3', '659395', '11M', '100,000,000+', 'Free', '0', 'Everyone', 'Communication', 'June 7, 2018', '9.8.000000010492', '4.0 and up') aparece 2 veces.\n",
      "La lista ('imo free video calls and chat', 'COMMUNICATION', '4.3', '4785892', '11M', '500,000,000+', 'Free', '0', 'Everyone', 'Communication', 'June 8, 2018', '9.8.000000010501', '4.0 and up') aparece 2 veces.\n",
      "La lista ('Google Voice', 'COMMUNICATION', '4.2', '171031', 'Varies with device', '10,000,000+', 'Free', '0', 'Everyone', 'Communication', 'August 3, 2018', 'Varies with device', 'Varies with device') aparece 2 veces.\n",
      "La lista ('Android Messages', 'COMMUNICATION', '4.2', '781810', 'Varies with device', '100,000,000+', 'Free', '0', 'Everyone', 'Communication', 'August 1, 2018', 'Varies with device', 'Varies with device') aparece 2 veces.\n",
      "La lista ('Google Duo - High Quality Video Calls', 'COMMUNICATION', '4.6', '2083237', 'Varies with device', '500,000,000+', 'Free', '0', 'Everyone', 'Communication', 'July 31, 2018', '37.1.206017801.DR37_RC14', '4.4 and up') aparece 2 veces.\n",
      "La lista ('Puffin Web Browser', 'COMMUNICATION', '4.3', '541389', 'Varies with device', '10,000,000+', 'Free', '0', 'Everyone', 'Communication', 'July 9, 2018', '7.5.3.20547', '4.1 and up') aparece 2 veces.\n",
      "La lista ('UC Browser - Fast Download Private & Secure', 'COMMUNICATION', '4.5', '17712922', '40M', '500,000,000+', 'Free', '0', 'Teen', 'Communication', 'August 2, 2018', '12.8.5.1121', '4.0 and up') aparece 2 veces.\n",
      "La lista ('imo free video calls and chat', 'COMMUNICATION', '4.3', '4785988', '11M', '500,000,000+', 'Free', '0', 'Everyone', 'Communication', 'June 8, 2018', '9.8.000000010501', '4.0 and up') aparece 2 veces.\n",
      "La lista ('Viber Messenger', 'COMMUNICATION', '4.3', '11334973', 'Varies with device', '500,000,000+', 'Free', '0', 'Everyone', 'Communication', 'July 18, 2018', 'Varies with device', 'Varies with device') aparece 2 veces.\n",
      "La lista ('Calls & Text by Mo+', 'COMMUNICATION', '4.2', '83239', '14M', '5,000,000+', 'Free', '0', 'Everyone', 'Communication', 'April 19, 2018', '3.0.4', '4.0 and up') aparece 2 veces.\n",
      "La lista ('free video calls and chat', 'COMMUNICATION', '4.2', '594728', 'Varies with device', '50,000,000+', 'Free', '0', 'Everyone', 'Communication', 'July 19, 2018', '7.3(800241)', '4.4 and up') aparece 2 veces.\n",
      "La lista ('WeChat', 'COMMUNICATION', '4.2', '5387446', 'Varies with device', '100,000,000+', 'Free', '0', 'Everyone', 'Communication', 'July 31, 2018', 'Varies with device', 'Varies with device') aparece 2 veces.\n",
      "La lista ('Skype - free IM & video calls', 'COMMUNICATION', '4.1', '10484169', 'Varies with device', '1,000,000,000+', 'Free', '0', 'Everyone', 'Communication', 'August 3, 2018', 'Varies with device', 'Varies with device') aparece 3 veces.\n",
      "La lista ('Glide - Video Chat Messenger', 'COMMUNICATION', '4.3', '350154', 'Varies with device', '10,000,000+', 'Free', '0', 'Everyone', 'Communication', 'July 29, 2018', 'Varies with device', 'Varies with device') aparece 2 veces.\n",
      "La lista ('Talkray - Free Calls & Texts', 'COMMUNICATION', '4.2', '244863', 'Varies with device', '10,000,000+', 'Free', '0', 'Everyone', 'Communication', 'May 29, 2018', 'Varies with device', 'Varies with device') aparece 2 veces.\n",
      "La lista ('LINE: Free Calls & Messages', 'COMMUNICATION', '4.2', '10790289', 'Varies with device', '500,000,000+', 'Free', '0', 'Everyone', 'Communication', 'July 26, 2018', 'Varies with device', 'Varies with device') aparece 2 veces.\n",
      "La lista ('KakaoTalk: Free Calls & Text', 'COMMUNICATION', '4.3', '2546527', 'Varies with device', '100,000,000+', 'Free', '0', 'Everyone', 'Communication', 'August 3, 2018', 'Varies with device', 'Varies with device') aparece 2 veces.\n",
      "La lista ('OkCupid Dating', 'DATING', '4.1', '285726', '15M', '10,000,000+', 'Free', '0', 'Mature 17+', 'Dating', 'July 30, 2018', '11.10.1', '4.1 and up') aparece 2 veces.\n",
      "La lista ('Hily: Dating, Chat, Match, Meet & Hook up', 'DATING', '4.1', '2556', '56M', '100,000+', 'Free', '0', 'Mature 17+', 'Dating', 'August 1, 2018', '2.5.2', '4.1 and up') aparece 2 veces.\n",
      "La lista ('Hinge: Dating & Relationships', 'DATING', '4.2', '7779', '12M', '500,000+', 'Free', '0', 'Mature 17+', 'Dating', 'August 3, 2018', '6.1.3', '5.0 and up') aparece 2 veces.\n",
      "La lista ('Casual Dating & Adult Singles - Joyride', 'DATING', '4.5', '61637', '11M', '5,000,000+', 'Free', '0', 'Mature 17+', 'Dating', 'July 31, 2018', '4.17.2', '4.1 and up') aparece 2 veces.\n",
      "La lista ('BBW Dating & Plus Size Chat', 'DATING', '4.4', '12632', '29M', '1,000,000+', 'Free', '0', 'Mature 17+', 'Dating', 'July 27, 2018', '3.5.0.1', '4.1 and up') aparece 2 veces.\n",
      "La lista ('Moco - Chat, Meet People', 'DATING', '4.2', '313724', 'Varies with device', '10,000,000+', 'Free', '0', 'Mature 17+', 'Dating', 'August 4, 2018', '2.6.141', '4.1 and up') aparece 2 veces.\n",
      "La lista ('CMB Free Dating App', 'DATING', '4.0', '48845', '40M', '1,000,000+', 'Free', '0', 'Mature 17+', 'Dating', 'August 1, 2018', '4.19.0.2320', '4.4 and up') aparece 2 veces.\n",
      "La lista ('Hot or Not - Find someone right now', 'DATING', '4.1', '305708', 'Varies with device', '10,000,000+', 'Free', '0', 'Mature 17+', 'Dating', 'August 2, 2018', 'Varies with device', 'Varies with device') aparece 2 veces.\n",
      "La lista ('Chispa, the Dating App for Latino, Latina Singles', 'DATING', '4.2', '4195', '24M', '100,000+', 'Free', '0', 'Mature 17+', 'Dating', 'July 25, 2018', '1.6.1', '4.4 and up') aparece 2 veces.\n",
      "La lista ('Clover Dating App', 'DATING', '4.1', '11633', '23M', '500,000+', 'Free', '0', 'Mature 17+', 'Dating', 'July 24, 2018', '2.5.1', '4.1 and up') aparece 2 veces.\n",
      "La lista ('Black People Meet Singles Date', 'DATING', '3.9', '10212', '5.0M', '1,000,000+', 'Free', '0', 'Mature 17+', 'Dating', 'July 25, 2018', '1.9.7', '4.4 and up') aparece 2 veces.\n",
      "La lista ('Blendr - Chat, Flirt & Meet', 'DATING', '4.0', '28671', 'Varies with device', '1,000,000+', 'Free', '0', 'Mature 17+', 'Dating', 'August 1, 2018', 'Varies with device', 'Varies with device') aparece 2 veces.\n",
      "La lista ('Free Dating Hook Up Messenger', 'DATING', '3.3', '1157', '21M', '100,000+', 'Free', '0', 'Mature 17+', 'Dating', 'January 27, 2017', '5.0.1', '4.2 and up') aparece 2 veces.\n",
      "La lista ('Find Real Love — YouLove Premium Dating', 'DATING', '4.5', '212626', '11M', '10,000,000+', 'Free', '0', 'Mature 17+', 'Dating', 'July 31, 2018', '4.17.2', '4.1 and up') aparece 2 veces.\n",
      "La lista ('Once - Quality Matches Every day', 'DATING', '4.4', '222888', '21M', '1,000,000+', 'Free', '0', 'Mature 17+', 'Dating', 'July 17, 2018', '2.45', '4.1 and up') aparece 2 veces.\n",
      "La lista ('Howlr', 'DATING', '3.9', '105', '27M', '5,000+', 'Free', '0', 'Mature 17+', 'Dating', 'June 19, 2018', '1.0.4', '4.4 and up') aparece 2 veces.\n",
      "La lista ('Sudy – Meet Elite & Rich Single', 'DATING', '4.1', '17268', '40M', '500,000+', 'Free', '0', 'Mature 17+', 'Dating', 'June 25, 2018', '4.1.2', '4.0.3 and up') aparece 2 veces.\n",
      "La lista ('Just She - Top Lesbian Dating', 'DATING', '1.9', '953', '19M', '100,000+', 'Free', '0', 'Mature 17+', 'Dating', 'July 18, 2018', '6.3.7', '5.0 and up') aparece 2 veces.\n",
      "La lista ('EliteSingles – Dating for Single Professionals', 'DATING', '2.5', '5377', '19M', '500,000+', 'Free', '0', 'Mature 17+', 'Dating', 'July 31, 2018', '4.8.5', '4.0.3 and up') aparece 2 veces.\n",
      "La lista ('muzmatch: Muslim & Arab Singles, Marriage & Dating', 'DATING', '3.8', '5164', '25M', '100,000+', 'Free', '0', 'Mature 17+', 'Dating', 'July 24, 2018', '3.8.75a', '4.0.3 and up') aparece 2 veces.\n",
      "La lista ('Adult Dirty Emojis', 'DATING', '2.8', '80', '5.5M', '10,000+', 'Free', '0', 'Teen', 'Dating', 'November 6, 2017', '1.0', '4.0.3 and up') aparece 3 veces.\n",
      "La lista ('Free Dating App - Meet Local Singles - Flirt Chat', 'DATING', '4.1', '825', 'Varies with device', '100,000+', 'Free', '0', 'Mature 17+', 'Dating', 'December 28, 2017', '1.0.5', '4.0 and up') aparece 2 veces.\n",
      "La lista ('Gay Sugar Daddy Dating & Hookup – Sudy Gay', 'DATING', '4.1', '2212', '41M', '100,000+', 'Free', '0', 'Mature 17+', 'Dating', 'June 20, 2018', '2.0.5', '4.0.3 and up') aparece 2 veces.\n",
      "La lista ('BBW Dating & Curvy Singles Chat- LargeFriends', 'DATING', '4.4', '218', '27M', '10,000+', 'Free', '0', 'Mature 17+', 'Dating', 'July 23, 2018', '5.2.9', '4.1 and up') aparece 2 veces.\n",
      "La lista ('iPair-Meet, Chat, Dating', 'DATING', '4.5', '182986', '77M', '5,000,000+', 'Free', '0', 'Mature 17+', 'Dating', 'August 2, 2018', '5.0.8', '4.1 and up') aparece 2 veces.\n",
      "La lista ('Transenger – Ts Dating and Chat for Free', 'DATING', '3.6', '8', '14M', '1,000+', 'Free', '0', 'Mature 17+', 'Dating', 'July 29, 2018', '1.4.0', '4.4 and up') aparece 2 veces.\n",
      "La lista ('O-Star', 'DATING', '4.4', '59', '38M', '5,000+', 'Free', '0', 'Everyone', 'Dating', 'July 19, 2018', '1.0.1', '4.3 and up') aparece 3 veces.\n",
      "La lista ('Free Cam Girls - Live Webcam', 'DATING', '3.5', '35', '16M', '1,000+', 'Free', '0', 'Mature 17+', 'Dating', 'July 16, 2018', '2.4', '4.0.3 and up') aparece 2 veces.\n",
      "La lista ('Cardi B Live Stream Video Chat - Prank', 'DATING', '4.4', '28', '3.4M', '500+', 'Free', '0', 'Everyone', 'Dating', 'July 16, 2018', '2.5', '4.0.3 and up') aparece 2 veces.\n",
      "La lista ('Live Girls Talk - Free Video Chat', 'DATING', '4.8', '125', '4.7M', '5,000+', 'Free', '0', 'Mature 17+', 'Dating', 'July 8, 2018', '8.2', '4.0.3 and up') aparece 2 veces.\n",
      "La lista ('Live Talk - Free Text and Video Chat', 'DATING', '4.6', '185', '5.0M', '10,000+', 'Free', '0', 'Mature 17+', 'Dating', 'July 16, 2018', '8.2', '4.0.3 and up') aparece 2 veces.\n",
      "La lista ('Chat Kids - Chat Room For Kids', 'DATING', '4.7', '6', '4.9M', '100+', 'Free', '0', 'Mature 17+', 'Dating', 'July 24, 2018', '1.0', '4.0.3 and up') aparece 2 veces.\n",
      "La lista ('Girls Live Chat - Free Text & Video Chat', 'DATING', '4.8', '110', '4.9M', '10,000+', 'Free', '0', 'Mature 17+', 'Dating', 'July 9, 2018', '8.2', '4.0.3 and up') aparece 2 veces.\n",
      "La lista ('Random Video Chat', 'DATING', 'NaN', '3', '16M', '1,000+', 'Free', '0', 'Mature 17+', 'Dating', 'July 15, 2018', '4.20', '4.0.3 and up') aparece 2 veces.\n",
      "La lista ('MouseMingle', 'DATING', '2.7', '3', '3.9M', '100+', 'Free', '0', 'Mature 17+', 'Dating', 'July 17, 2018', '1.0.0', '4.4 and up') aparece 2 veces.\n",
      "La lista ('Random Video Chat App With Strangers', 'DATING', 'NaN', '3', '4.8M', '1,000+', 'Free', '0', 'Mature 17+', 'Dating', 'July 17, 2018', '1.', '4.0 and up') aparece 2 veces.\n",
      "La lista ('TED', 'EDUCATION', '4.6', '181893', '18M', '10,000,000+', 'Free', '0', 'Everyone 10+', 'Education', 'July 27, 2018', '3.2.5', '4.1 and up') aparece 3 veces.\n",
      "La lista ('Khan Academy', 'EDUCATION', '4.6', '85375', '21M', '5,000,000+', 'Free', '0', 'Everyone', 'Education', 'July 27, 2018', '5.0.0', '4.1 and up') aparece 3 veces.\n",
      "La lista ('Babbel – Learn Languages', 'EDUCATION', '4.3', '266948', '21M', '10,000,000+', 'Free', '0', 'Everyone', 'Education', 'July 30, 2018', '20.7.2', '4.4 and up') aparece 2 veces.\n",
      "La lista ('Lumosity: #1 Brain Games & Cognitive Training App', 'EDUCATION', '4.2', '215301', 'Varies with device', '10,000,000+', 'Free', '0', 'Everyone', 'Education', 'August 1, 2018', 'Varies with device', 'Varies with device') aparece 2 veces.\n",
      "La lista ('Learn languages, grammar & vocabulary with Memrise', 'EDUCATION', '4.7', '1107903', 'Varies with device', '10,000,000+', 'Free', '0', 'Everyone', 'Education', 'August 2, 2018', 'Varies with device', 'Varies with device') aparece 2 veces.\n",
      "La lista ('Quizlet: Learn Languages & Vocab with Flashcards', 'EDUCATION', '4.6', '211856', 'Varies with device', '10,000,000+', 'Free', '0', 'Everyone', 'Education', 'August 1, 2018', 'Varies with device', 'Varies with device') aparece 4 veces.\n",
      "La lista ('Udemy - Online Courses', 'EDUCATION', '4.5', '99020', '18M', '1,000,000+', 'Free', '0', 'Everyone', 'Education', 'August 2, 2018', '5.0.4', '5.0 and up') aparece 3 veces.\n",
      "La lista ('Coursera: Online courses', 'EDUCATION', '4.4', '90481', 'Varies with device', '5,000,000+', 'Free', '0', 'Everyone', 'Education', 'July 27, 2018', 'Varies with device', 'Varies with device') aparece 2 veces.\n",
      "La lista ('Lynda - Online Training Videos', 'EDUCATION', '4.2', '8599', '17M', '1,000,000+', 'Free', '0', 'Everyone', 'Education', 'July 11, 2018', '4.9.10', '4.1 and up') aparece 2 veces.\n",
      "La lista ('Brilliant', 'EDUCATION', '4.5', '41185', 'Varies with device', '1,000,000+', 'Free', '0', 'Everyone', 'Education', 'August 3, 2018', 'Varies with device', 'Varies with device') aparece 2 veces.\n",
      "La lista ('Udacity - Lifelong Learning', 'EDUCATION', '4.3', '22384', '17M', '1,000,000+', 'Free', '0', 'Everyone', 'Education', 'July 31, 2018', '4.7.0', '5.0 and up') aparece 2 veces.\n",
      "La lista ('Socratic - Math Answers & Homework Help', 'EDUCATION', '4.6', '37862', '5.4M', '1,000,000+', 'Free', '0', 'Everyone', 'Education', 'June 7, 2018', '1.8.1', '4.1 and up') aparece 2 veces.\n",
      "La lista ('Duolingo: Learn Languages Free', 'EDUCATION', '4.7', '6290507', 'Varies with device', '100,000,000+', 'Free', '0', 'Everyone', 'Education;Education', 'August 1, 2018', 'Varies with device', 'Varies with device') aparece 3 veces.\n",
      "La lista ('Learn 50 languages', 'EDUCATION', '4.4', '55256', '14M', '5,000,000+', 'Free', '0', 'Everyone', 'Education', 'June 19, 2018', '10.9.1', '4.0 and up') aparece 2 veces.\n",
      "La lista ('Rosetta Stone: Learn to Speak & Read New Languages', 'EDUCATION', '4.5', '172508', '76M', '5,000,000+', 'Free', '0', 'Everyone', 'Education;Education', 'June 27, 2018', '5.2.1', '5.0 and up') aparece 3 veces.\n",
      "La lista ('Mango Languages: Lovable Language Courses', 'EDUCATION', '4.0', '4815', '19M', '500,000+', 'Free', '0', 'Everyone', 'Education', 'July 17, 2018', '4.2.3', '4.2 and up') aparece 2 veces.\n",
      "La lista ('My Class Schedule: Timetable', 'EDUCATION', '4.1', '9348', 'Varies with device', '1,000,000+', 'Free', '0', 'Everyone', 'Education', 'June 1, 2016', 'Varies with device', 'Varies with device') aparece 2 veces.\n",
      "La lista ('Google Classroom', 'EDUCATION', '4.2', '69498', 'Varies with device', '10,000,000+', 'Free', '0', 'Everyone', 'Education', 'July 19, 2018', 'Varies with device', 'Varies with device') aparece 2 veces.\n",
      "La lista ('busuu: Learn Languages - Spanish, English & More', 'EDUCATION', '4.3', '206532', '21M', '10,000,000+', 'Free', '0', 'Everyone 10+', 'Education', 'August 1, 2018', '13.9.0.161', '5.0 and up') aparece 2 veces.\n",
      "La lista ('Netflix', 'ENTERTAINMENT', '4.4', '5456208', 'Varies with device', '100,000,000+', 'Free', '0', 'Teen', 'Entertainment', 'July 31, 2018', 'Varies with device', 'Varies with device') aparece 2 veces.\n",
      "La lista ('Tubi TV - Free Movies & TV', 'ENTERTAINMENT', '4.3', '296771', '11M', '10,000,000+', 'Free', '0', 'Teen', 'Entertainment', 'July 15, 2018', '2.13.5', '4.1 and up') aparece 2 veces.\n",
      "La lista ('Movies by Flixster, with Rotten Tomatoes', 'ENTERTAINMENT', '4.5', '653008', '16M', '10,000,000+', 'Free', '0', 'Everyone', 'Entertainment', 'June 20, 2018', '9.1.4', '4.4 and up') aparece 3 veces.\n",
      "La lista ('IMDb Movies & TV', 'ENTERTAINMENT', '4.2', '501498', '12M', '100,000,000+', 'Free', '0', 'Teen', 'Entertainment', 'July 26, 2018', 'Varies with device', 'Varies with device') aparece 2 veces.\n",
      "La lista ('Fandango Movies - Times + Tickets', 'ENTERTAINMENT', '4.6', '243747', 'Varies with device', '10,000,000+', 'Free', '0', 'Teen', 'Entertainment', 'August 2, 2018', 'Varies with device', 'Varies with device') aparece 2 veces.\n",
      "La lista ('Food Network', 'ENTERTAINMENT', '4.1', '7813', 'Varies with device', '500,000+', 'Free', '0', 'Teen', 'Entertainment', 'July 27, 2018', 'Varies with device', 'Varies with device') aparece 2 veces.\n",
      "La lista ('Crunchyroll - Everything Anime', 'ENTERTAINMENT', '3.7', '310066', 'Varies with device', '10,000,000+', 'Free', '0', 'Teen', 'Entertainment', 'March 5, 2018', 'Varies with device', 'Varies with device') aparece 2 veces.\n",
      "La lista ('Crackle - Free TV & Movies', 'ENTERTAINMENT', '3.7', '388089', 'Varies with device', '10,000,000+', 'Free', '0', 'Teen', 'Entertainment', 'April 12, 2018', 'Varies with device', 'Varies with device') aparece 3 veces.\n",
      "La lista ('CBS - Full Episodes & Live TV', 'ENTERTAINMENT', '3.8', '92058', '12M', '10,000,000+', 'Free', '0', 'Teen', 'Entertainment', 'July 20, 2018', '4.8.6', '4.1 and up') aparece 2 veces.\n",
      "La lista ('STARZ', 'ENTERTAINMENT', '4.3', '88185', 'Varies with device', '10,000,000+', 'Free', '0', 'Mature 17+', 'Entertainment', 'June 20, 2018', 'Varies with device', 'Varies with device') aparece 3 veces.\n",
      "La lista ('HISTORY: Watch TV Show Full Episodes & Specials', 'ENTERTAINMENT', '4.1', '33387', '20M', '1,000,000+', 'Free', '0', 'Teen', 'Entertainment', 'July 16, 2018', '3.1.4', '4.4 and up') aparece 3 veces.\n",
      "La lista ('Nick', 'ENTERTAINMENT', '4.2', '123279', '25M', '10,000,000+', 'Free', '0', 'Everyone 10+', 'Entertainment;Music & Video', 'January 24, 2018', '2.0.8', '4.4 and up') aparece 4 veces.\n",
      "La lista ('VH1', 'ENTERTAINMENT', '4.1', '27424', '17M', '1,000,000+', 'Free', '0', 'Teen', 'Entertainment', 'July 8, 2018', '11.45.0', '4.4 and up') aparece 3 veces.\n",
      "La lista ('FOX NOW - On Demand & Live TV', 'ENTERTAINMENT', '3.9', '60841', 'Varies with device', '5,000,000+', 'Free', '0', 'Teen', 'Entertainment', 'July 26, 2018', 'Varies with device', '4.4 and up') aparece 3 veces.\n",
      "La lista ('A&E - Watch Full Episodes of TV Shows', 'ENTERTAINMENT', '4.0', '29706', '19M', '1,000,000+', 'Free', '0', 'Teen', 'Entertainment', 'July 16, 2018', '3.1.4', '4.4 and up') aparece 3 veces.\n",
      "La lista ('The CW', 'ENTERTAINMENT', '4.4', '288150', '21M', '5,000,000+', 'Free', '0', 'Teen', 'Entertainment', 'July 23, 2018', '2.17', '4.4 and up') aparece 3 veces.\n",
      "La lista ('BET NOW - Watch Shows', 'ENTERTAINMENT', '4.2', '14807', '19M', '1,000,000+', 'Free', '0', 'Teen', 'Entertainment', 'July 8, 2018', '11.45.0', '4.4 and up') aparece 3 veces.\n",
      "La lista ('HBO NOW: Stream TV & Movies', 'ENTERTAINMENT', '3.9', '61201', 'Varies with device', '10,000,000+', 'Free', '0', 'Teen', 'Entertainment', 'July 19, 2018', 'Varies with device', 'Varies with device') aparece 3 veces.\n",
      "La lista ('SHOWTIME', 'ENTERTAINMENT', '4.2', '12398', 'Varies with device', '1,000,000+', 'Free', '0', 'Teen', 'Entertainment', 'July 2, 2018', 'Varies with device', 'Varies with device') aparece 2 veces.\n",
      "La lista ('Comedy Central', 'ENTERTAINMENT', '3.9', '22378', '19M', '1,000,000+', 'Free', '0', 'Teen', 'Entertainment', 'July 8, 2018', '11.45.0', '4.4 and up') aparece 2 veces.\n",
      "La lista ('Hulu: Stream TV, Movies & more', 'ENTERTAINMENT', '4.0', '319691', 'Varies with device', '10,000,000+', 'Free', '0', 'Teen', 'Entertainment', 'August 3, 2018', 'Varies with device', '5.0 and up') aparece 2 veces.\n",
      "La lista ('MTV', 'ENTERTAINMENT', '3.8', '35279', '15M', '1,000,000+', 'Free', '0', 'Teen', 'Entertainment', 'July 8, 2018', '11.45.0', '4.4 and up') aparece 2 veces.\n",
      "La lista ('Lifetime - Watch Full Episodes & Original Movies', 'ENTERTAINMENT', '4.0', '35931', '19M', '1,000,000+', 'Free', '0', 'Teen', 'Entertainment', 'July 16, 2018', '3.1.4', '4.4 and up') aparece 2 veces.\n",
      "La lista ('FOX', 'ENTERTAINMENT', '3.7', '197774', '44M', '10,000,000+', 'Free', '0', 'Mature 17+', 'Entertainment', 'June 25, 2018', '6.6.1', '4.4 and up') aparece 2 veces.\n",
      "La lista ('Telemundo Now', 'ENTERTAINMENT', '3.9', '8674', '19M', '1,000,000+', 'Free', '0', 'Teen', 'Entertainment', 'May 25, 2018', '3.3.1.42', '4.4 and up') aparece 2 veces.\n",
      "La lista ('Viki: Asian TV Dramas & Movies', 'ENTERTAINMENT', '4.3', '407719', 'Varies with device', '10,000,000+', 'Free', '0', 'Teen', 'Entertainment', 'July 27, 2018', 'Varies with device', 'Varies with device') aparece 2 veces.\n",
      "La lista ('Google Pay', 'FINANCE', '4.2', '347838', 'Varies with device', '100,000,000+', 'Free', '0', 'Everyone', 'Finance', 'July 26, 2018', '2.70.206190089', 'Varies with device') aparece 2 veces.\n",
      "La lista ('Robinhood - Investing, No Fees', 'FINANCE', '4.6', '57493', 'Varies with device', '1,000,000+', 'Free', '0', 'Everyone', 'Finance', 'July 31, 2018', 'Varies with device', 'Varies with device') aparece 2 veces.\n",
      "La lista ('Wells Fargo Daily Change', 'FINANCE', '4.2', '283', '5.0M', '100,000+', 'Free', '0', 'Everyone', 'Finance', 'April 26, 2018', '2.5.0.26', '5.0 and up') aparece 2 veces.\n",
      "La lista ('Digit Save Money Automatically', 'FINANCE', '4.5', '8188', '22M', '100,000+', 'Free', '0', 'Everyone', 'Finance', 'July 31, 2018', '2.29.01', '4.1 and up') aparece 2 veces.\n",
      "La lista ('Simple - Better Banking', 'FINANCE', '4.4', '7731', '24M', '100,000+', 'Free', '0', 'Everyone', 'Finance', 'August 2, 2018', '2.53.2', '5.0 and up') aparece 2 veces.\n",
      "La lista ('Mint: Budget, Bills, Finance', 'FINANCE', '4.3', '129304', 'Varies with device', '5,000,000+', 'Free', '0', 'Everyone', 'Finance', 'August 2, 2018', 'Varies with device', 'Varies with device') aparece 2 veces.\n",
      "La lista ('Grubhub: Food Delivery', 'FOOD_AND_DRINK', '4.5', '155944', '35M', '5,000,000+', 'Free', '0', 'Everyone', 'Food & Drink', 'August 2, 2018', '7.12', '5.0 and up') aparece 2 veces.\n",
      "La lista (\"Domino's Pizza USA\", 'FOOD_AND_DRINK', '4.7', '1032935', 'Varies with device', '10,000,000+', 'Free', '0', 'Everyone', 'Food & Drink', 'July 20, 2018', 'Varies with device', 'Varies with device') aparece 2 veces.\n",
      "La lista ('Postmates Food Delivery: Order Eats & Alcohol', 'FOOD_AND_DRINK', '3.6', '22875', '22M', '1,000,000+', 'Free', '0', 'Everyone', 'Food & Drink', 'July 27, 2018', '4.2.6', '5.0 and up') aparece 2 veces.\n",
      "La lista ('Runkeeper - GPS Track Run Walk', 'HEALTH_AND_FITNESS', '4.5', '501144', 'Varies with device', '10,000,000+', 'Free', '0', 'Everyone', 'Health & Fitness', 'July 16, 2018', 'Varies with device', 'Varies with device') aparece 2 veces.\n",
      "La lista ('8fit Workouts & Meal Planner', 'HEALTH_AND_FITNESS', '4.6', '115721', '67M', '10,000,000+', 'Free', '0', 'Everyone', 'Health & Fitness', 'July 11, 2018', '3.5.0', '5.0 and up') aparece 2 veces.\n",
      "La lista ('Workout Trainer: fitness coach', 'HEALTH_AND_FITNESS', '4.2', '100406', 'Varies with device', '10,000,000+', 'Free', '0', 'Everyone', 'Health & Fitness', 'June 30, 2018', 'Varies with device', 'Varies with device') aparece 2 veces.\n",
      "La lista ('Fabulous: Motivate Me! Meditate, Relax, Sleep', 'HEALTH_AND_FITNESS', '4.6', '205299', '31M', '5,000,000+', 'Free', '0', 'Everyone', 'Health & Fitness', 'July 16, 2018', '3.48', '4.1 and up') aparece 2 veces.\n",
      "La lista ('Run with Map My Run', 'HEALTH_AND_FITNESS', '4.5', '183669', '57M', '5,000,000+', 'Free', '0', 'Everyone', 'Health & Fitness', 'July 27, 2018', '18.7.1', '5.0 and up') aparece 2 veces.\n",
      "La lista ('Nike Training Club - Workouts & Fitness Plans', 'HEALTH_AND_FITNESS', '4.6', '251534', '93M', '10,000,000+', 'Free', '0', 'Everyone', 'Health & Fitness', 'July 18, 2018', '5.14.0', '5.0 and up') aparece 2 veces.\n",
      "La lista ('Fitbit Coach', 'HEALTH_AND_FITNESS', '4.6', '28951', '60M', '1,000,000+', 'Free', '0', 'Everyone', 'Health & Fitness', 'July 16, 2018', '4.4', '4.4 and up') aparece 2 veces.\n",
      "La lista ('Weight Loss Running by Verv', 'HEALTH_AND_FITNESS', '4.5', '27396', '59M', '1,000,000+', 'Free', '0', 'Mature 17+', 'Health & Fitness', 'July 16, 2018', '6.5.3', '4.1 and up') aparece 2 veces.\n",
      "La lista ('Nike+ Run Club', 'HEALTH_AND_FITNESS', '4.4', '708710', 'Varies with device', '10,000,000+', 'Free', '0', 'Everyone', 'Health & Fitness', 'July 12, 2018', '2.17.0', '4.4 and up') aparece 2 veces.\n",
      "La lista ('Seven - 7 Minute Workout Training Challenge', 'HEALTH_AND_FITNESS', '4.5', '75571', 'Varies with device', '1,000,000+', 'Free', '0', 'Everyone', 'Health & Fitness', 'August 3, 2018', '7.2.5', 'Varies with device') aparece 2 veces.\n",
      "La lista ('Daily Yoga - Yoga Fitness Plans', 'HEALTH_AND_FITNESS', '4.4', '70769', '35M', '5,000,000+', 'Free', '0', 'Everyone', 'Health & Fitness', 'July 24, 2018', '6.2.73', '4.0 and up') aparece 3 veces.\n",
      "La lista ('Pocket Yoga', 'HEALTH_AND_FITNESS', '4.4', '2107', 'Varies with device', '100,000+', 'Paid', '$2.99', 'Everyone', 'Health & Fitness', 'December 22, 2015', 'Varies with device', 'Varies with device') aparece 2 veces.\n",
      "La lista ('Relax Meditation: Sleep with Sleep Sounds', 'HEALTH_AND_FITNESS', '4.4', '26540', '43M', '1,000,000+', 'Free', '0', 'Everyone', 'Health & Fitness', 'February 9, 2017', '2.5.1', '4.0.3 and up') aparece 2 veces.\n",
      "La lista ('Meditation Music - Relax, Yoga', 'HEALTH_AND_FITNESS', '4.6', '48226', '28M', '1,000,000+', 'Free', '0', 'Everyone', 'Health & Fitness', 'March 5, 2018', '3.1.9', '4.0.3 and up') aparece 2 veces.\n",
      "La lista ('21-Day Meditation Experience', 'HEALTH_AND_FITNESS', '4.4', '11506', '15M', '100,000+', 'Free', '0', 'Everyone', 'Health & Fitness', 'August 2, 2018', '3.0.0', '4.1 and up') aparece 2 veces.\n",
      "La lista ('Relax Melodies: Sleep Sounds', 'HEALTH_AND_FITNESS', '4.5', '233243', 'Varies with device', '5,000,000+', 'Free', '0', 'Everyone', 'Health & Fitness', 'July 23, 2018', 'Varies with device', 'Varies with device') aparece 2 veces.\n",
      "La lista ('Simple Habit Meditation', 'HEALTH_AND_FITNESS', '4.7', '11689', '20M', '500,000+', 'Free', '0', 'Everyone', 'Health & Fitness', 'July 27, 2018', '1.29.15', '4.4 and up') aparece 2 veces.\n",
      "La lista ('Headspace: Meditation & Mindfulness', 'HEALTH_AND_FITNESS', '4.6', '77563', '39M', '10,000,000+', 'Free', '0', 'Everyone', 'Health & Fitness', 'July 23, 2018', '3.6.4', '4.2 and up') aparece 2 veces.\n",
      "La lista ('Calorie Counter - MyFitnessPal', 'HEALTH_AND_FITNESS', '4.6', '1873523', 'Varies with device', '50,000,000+', 'Free', '0', 'Everyone', 'Health & Fitness', 'July 31, 2018', 'Varies with device', 'Varies with device') aparece 2 veces.\n",
      "La lista ('Weight Watchers Mobile', 'HEALTH_AND_FITNESS', '4.2', '270294', '58M', '5,000,000+', 'Free', '0', 'Everyone', 'Health & Fitness', 'July 31, 2018', '6.15.0', '4.1 and up') aparece 2 veces.\n",
      "La lista ('Calorie Counter - MyFitnessPal', 'HEALTH_AND_FITNESS', '4.6', '1873520', 'Varies with device', '50,000,000+', 'Free', '0', 'Everyone', 'Health & Fitness', 'July 31, 2018', 'Varies with device', 'Varies with device') aparece 2 veces.\n",
      "La lista ('Lose It! - Calorie Counter', 'HEALTH_AND_FITNESS', '4.4', '69395', 'Varies with device', '10,000,000+', 'Free', '0', 'Everyone', 'Health & Fitness', 'August 3, 2018', 'Varies with device', 'Varies with device') aparece 3 veces.\n",
      "La lista ('Calorie Counter - MyNetDiary', 'HEALTH_AND_FITNESS', '4.5', '27439', '19M', '1,000,000+', 'Free', '0', 'Everyone', 'Health & Fitness', 'July 16, 2018', '6.5.1', '5.0 and up') aparece 2 veces.\n",
      "La lista ('10 Best Foods for You', 'HEALTH_AND_FITNESS', '4.0', '2490', '3.8M', '500,000+', 'Free', '0', 'Everyone 10+', 'Health & Fitness', 'February 17, 2017', '1.9', '2.3.3 and up') aparece 2 veces.\n",
      "La lista ('MyPlate Calorie Tracker', 'HEALTH_AND_FITNESS', '4.6', '24094', '18M', '1,000,000+', 'Free', '0', 'Everyone', 'Health & Fitness', 'July 9, 2018', '3.3.0(1)', '4.1 and up') aparece 2 veces.\n",
      "La lista ('My Diet Diary Calorie Counter', 'HEALTH_AND_FITNESS', '4.1', '18539', '57M', '1,000,000+', 'Free', '0', 'Everyone', 'Health & Fitness', 'July 30, 2018', '1.11.4', '4.0.3 and up') aparece 2 veces.\n",
      "La lista ('Calorie Counter - Macros', 'HEALTH_AND_FITNESS', '4.0', '3061', '5.5M', '100,000+', 'Free', '0', 'Everyone', 'Health & Fitness', 'August 27, 2016', '2.3.4', '5.0 and up') aparece 2 veces.\n",
      "La lista ('Weight Loss Tracker - RecStyle', 'HEALTH_AND_FITNESS', '4.4', '20547', '5.7M', '1,000,000+', 'Free', '0', 'Everyone', 'Health & Fitness', 'November 29, 2017', '3.2.7', '4.1 and up') aparece 2 veces.\n",
      "La lista ('Lark - 24/7 Health Coach', 'HEALTH_AND_FITNESS', '4.1', '3405', '51M', '100,000+', 'Free', '0', 'Everyone', 'Health & Fitness', 'July 25, 2018', '4.5.1.123', '4.4 and up') aparece 2 veces.\n",
      "La lista ('MealLogger-Photo Food Journal', 'HEALTH_AND_FITNESS', '3.5', '217', '9.4M', '50,000+', 'Free', '0', 'Teen', 'Health & Fitness', 'August 23, 2017', '4.6.2', '4.0.3 and up') aparece 2 veces.\n",
      "La lista ('Health and Nutrition Guide', 'HEALTH_AND_FITNESS', '4.3', '7895', '3.3M', '500,000+', 'Free', '0', 'Everyone', 'Health & Fitness', 'July 15, 2018', '3.3', '4.0 and up') aparece 2 veces.\n",
      "La lista ('Calorie Counter & Diet Tracker', 'HEALTH_AND_FITNESS', '4.5', '32606', 'Varies with device', '1,000,000+', 'Free', '0', 'Everyone', 'Health & Fitness', 'March 22, 2018', 'Varies with device', 'Varies with device') aparece 2 veces.\n",
      "La lista ('Food Calorie Calculator', 'HEALTH_AND_FITNESS', '4.2', '1324', '4.0M', '100,000+', 'Free', '0', 'Everyone', 'Health & Fitness', 'January 29, 2018', '10.2.0', '4.0 and up') aparece 2 veces.\n",
      "La lista ('Zillow: Find Houses for Sale & Apartments for Rent', 'HOUSE_AND_HOME', '4.5', '417907', '34M', '10,000,000+', 'Free', '0', 'Everyone', 'House & Home', 'August 1, 2018', '9.8.1.7425', '4.4 and up') aparece 2 veces.\n",
      "La lista ('Realtor.com Real Estate: Homes for Sale and Rent', 'HOUSE_AND_HOME', '4.5', '162243', '12M', '10,000,000+', 'Free', '0', 'Everyone', 'House & Home', 'July 26, 2018', '8.18', '4.0.3 and up') aparece 2 veces.\n",
      "La lista ('Trulia Real Estate & Rentals', 'HOUSE_AND_HOME', '4.5', '175293', 'Varies with device', '10,000,000+', 'Free', '0', 'Everyone', 'House & Home', 'July 24, 2018', 'Varies with device', 'Varies with device') aparece 2 veces.\n",
      "La lista ('Apartment List: Housing, Apt, and Property Rentals', 'HOUSE_AND_HOME', '4.5', '8481', '7.5M', '1,000,000+', 'Free', '0', 'Everyone', 'House & Home', 'August 3, 2018', '2.1.0', '5.0 and up') aparece 2 veces.\n",
      "La lista ('Redfin Real Estate', 'HOUSE_AND_HOME', '4.6', '36857', '19M', '1,000,000+', 'Free', '0', 'Everyone', 'House & Home', 'July 25, 2018', '220.0', '5.0 and up') aparece 2 veces.\n",
      "La lista ('Mortgage by Zillow: Calculator & Rates', 'HOUSE_AND_HOME', '4.3', '4435', '7.9M', '500,000+', 'Free', '0', 'Everyone', 'House & Home', 'March 2, 2016', '2.6.0.287', '4.0 and up') aparece 2 veces.\n",
      "La lista ('Apartments.com Rental Search', 'HOUSE_AND_HOME', '4.3', '22584', '16M', '1,000,000+', 'Free', '0', 'Everyone', 'House & Home', 'July 16, 2018', '4.7.13', '4.4 and up') aparece 2 veces.\n",
      "La lista ('Houzz Interior Design Ideas', 'HOUSE_AND_HOME', '4.6', '353813', 'Varies with device', '10,000,000+', 'Free', '0', 'Everyone', 'House & Home', 'August 1, 2018', 'Varies with device', 'Varies with device') aparece 2 veces.\n",
      "La lista ('Vaniday - Beauty Booking App', 'LIFESTYLE', '3.6', '1067', 'Varies with device', '100,000+', 'Free', '0', 'Everyone', 'Lifestyle', 'March 20, 2018', '3.8.15', '4.1 and up') aparece 2 veces.\n",
      "La lista ('Fashion in Vogue', 'LIFESTYLE', '3.8', '1797', '6.8M', '100,000+', 'Free', '0', 'Everyone', 'Lifestyle', 'September 27, 2016', '2.0', '4.3 and up') aparece 3 veces.\n",
      "La lista ('StyleSeat', 'LIFESTYLE', '4.7', '20304', '24M', '500,000+', 'Free', '0', 'Everyone', 'Lifestyle', 'July 31, 2018', '4.35', '4.0.3 and up') aparece 2 veces.\n",
      "La lista ('Brit + Co', 'LIFESTYLE', '3.9', '987', '4.5M', '10,000+', 'Free', '0', 'Everyone', 'Lifestyle', 'August 29, 2017', '2.0.4', '4.0 and up') aparece 2 veces.\n",
      "La lista ('Wheretoget: Shop in style', 'LIFESTYLE', '4.1', '6808', '12M', '500,000+', 'Free', '0', 'Teen', 'Lifestyle', 'June 5, 2017', '3.2.0', '4.1 and up') aparece 2 veces.\n",
      "La lista ('My Dressing - Fashion closet', 'LIFESTYLE', '4.1', '12452', 'Varies with device', '500,000+', 'Free', '0', 'Everyone', 'Lifestyle', 'January 26, 2017', 'Varies with device', 'Varies with device') aparece 2 veces.\n",
      "La lista ('Chictopia', 'LIFESTYLE', '4.1', '360', '4.6M', '10,000+', 'Free', '0', 'Everyone', 'Lifestyle', 'April 30, 2014', '1.6.2', '2.2 and up') aparece 2 veces.\n",
      "La lista ('Scarf Fashion Designer', 'LIFESTYLE', '4.4', '16637', '10M', '1,000,000+', 'Free', '0', 'Everyone', 'Lifestyle', 'June 18, 2017', '1.8', '2.3 and up') aparece 2 veces.\n",
      "La lista ('Clash of Clans', 'GAME', '4.6', '44891723', '98M', '100,000,000+', 'Free', '0', 'Everyone 10+', 'Strategy', 'July 15, 2018', '10.322.16', '4.1 and up') aparece 2 veces.\n",
      "La lista ('Kick the Buddy', 'GAME', '4.3', '1000417', 'Varies with device', '50,000,000+', 'Free', '0', 'Teen', 'Action', 'July 5, 2018', 'Varies with device', '4.4 and up') aparece 2 veces.\n",
      "La lista ('Fishdom', 'GAME', '4.6', '2157930', 'Varies with device', '10,000,000+', 'Free', '0', 'Everyone', 'Puzzle', 'July 19, 2018', '2.21.5', '4.0.3 and up') aparece 2 veces.\n",
      "La lista ('Galaxy Attack: Alien Shooter', 'GAME', '4.6', '506275', 'Varies with device', '10,000,000+', 'Free', '0', 'Everyone', 'Arcade', 'August 1, 2018', '5.66', '4.1 and up') aparece 2 veces.\n",
      "La lista ('Candy Crush Saga', 'GAME', '4.4', '22428456', '74M', '500,000,000+', 'Free', '0', 'Everyone', 'Casual', 'July 5, 2018', '1.129.0.2', '4.1 and up') aparece 2 veces.\n",
      "La lista ('Sniper 3D Gun Shooter: Free Shooting Games - FPS', 'GAME', '4.6', '7672495', 'Varies with device', '100,000,000+', 'Free', '0', 'Mature 17+', 'Action', 'August 2, 2018', 'Varies with device', 'Varies with device') aparece 2 veces.\n",
      "La lista ('Temple Run 2', 'GAME', '4.3', '8118937', '62M', '500,000,000+', 'Free', '0', 'Everyone', 'Action', 'July 5, 2018', '1.49.1', '4.0 and up') aparece 2 veces.\n",
      "La lista ('Block Craft 3D: Building Simulator Games For Free', 'GAME', '4.5', '946926', '57M', '50,000,000+', 'Free', '0', 'Everyone', 'Simulation', 'March 5, 2018', '2.10.2', '4.0.3 and up') aparece 2 veces.\n",
      "La lista ('Wordscapes', 'GAME', '4.8', '230727', '87M', '10,000,000+', 'Free', '0', 'Everyone', 'Word', 'August 2, 2018', '1.0.47', '4.1 and up') aparece 2 veces.\n",
      "La lista ('Honkai Impact 3rd', 'GAME', '4.7', '59017', '82M', '1,000,000+', 'Free', '0', 'Teen', 'Action', 'July 3, 2018', '2.2.1', '4.3 and up') aparece 2 veces.\n",
      "La lista ('DRAGON BALL LEGENDS', 'GAME', '4.6', '337913', '48M', '5,000,000+', 'Free', '0', 'Teen', 'Action', 'August 3, 2018', '1.11.0', '6.0 and up') aparece 2 veces.\n",
      "La lista ('Candy Crush Saga', 'GAME', '4.4', '22430188', '74M', '500,000,000+', 'Free', '0', 'Everyone', 'Casual', 'July 5, 2018', '1.129.0.2', '4.1 and up') aparece 2 veces.\n",
      "La lista ('Subway Surfers', 'GAME', '4.5', '27725352', '76M', '1,000,000,000+', 'Free', '0', 'Everyone 10+', 'Arcade', 'July 12, 2018', '1.90.0', '4.1 and up') aparece 2 veces.\n",
      "La lista ('Plants vs. Zombies FREE', 'GAME', '4.4', '4067651', '69M', '100,000,000+', 'Free', '0', 'Everyone 10+', 'Strategy', 'July 6, 2018', '2.2.00', '4.1 and up') aparece 2 veces.\n",
      "La lista ('Block Puzzle', 'GAME', '4.6', '59907', '7.8M', '5,000,000+', 'Free', '0', 'Everyone', 'Puzzle', 'March 6, 2018', '2.9', '2.3 and up') aparece 2 veces.\n",
      "La lista ('Flow Free', 'GAME', '4.3', '1295625', '11M', '100,000,000+', 'Free', '0', 'Everyone', 'Puzzle', 'April 11, 2018', '4.0', '4.1 and up') aparece 2 veces.\n",
      "La lista ('slither.io', 'GAME', '4.4', '5235294', 'Varies with device', '100,000,000+', 'Free', '0', 'Everyone', 'Action', 'November 14, 2017', 'Varies with device', '2.3 and up') aparece 2 veces.\n",
      "La lista ('Score! Hero', 'GAME', '4.6', '5419676', '96M', '100,000,000+', 'Free', '0', 'Everyone', 'Sports', 'June 13, 2018', '1.751', '4.4 and up') aparece 2 veces.\n",
      "La lista ('Magic Tiles 3', 'GAME', '4.5', '592504', 'Varies with device', '50,000,000+', 'Free', '0', 'Everyone', 'Music', 'August 3, 2018', '5.13.007', '4.1 and up') aparece 2 veces.\n",
      "La lista ('Jewels Star: OZ adventure', 'GAME', '4.5', '21892', '14M', '1,000,000+', 'Free', '0', 'Everyone', 'Puzzle', 'December 29, 2017', '1.3', '4.0 and up') aparece 2 veces.\n",
      "La lista ('Bowmasters', 'GAME', '4.7', '1535973', 'Varies with device', '50,000,000+', 'Free', '0', 'Teen', 'Action', 'July 23, 2018', '2.12.5', '4.1 and up') aparece 2 veces.\n",
      "La lista ('Sniper 3D Gun Shooter: Free Shooting Games - FPS', 'GAME', '4.6', '7674252', 'Varies with device', '100,000,000+', 'Free', '0', 'Mature 17+', 'Action', 'August 2, 2018', 'Varies with device', 'Varies with device') aparece 2 veces.\n",
      "La lista ('Garena Free Fire', 'GAME', '4.5', '5476569', '53M', '100,000,000+', 'Free', '0', 'Teen', 'Action', 'August 3, 2018', '1.21.0', '4.0.3 and up') aparece 2 veces.\n",
      "La lista ('Super ABC! Learning games for kids! Preschool apps', 'FAMILY', '4.6', '20267', '46M', '1,000,000+', 'Free', '0', 'Everyone', 'Educational;Education', 'July 16, 2018', '1.1.6.7', '4.1 and up') aparece 2 veces.\n",
      "La lista ('Baby Panda Care', 'FAMILY', '4.2', '108795', '49M', '10,000,000+', 'Free', '0', 'Everyone', 'Educational;Pretend Play', 'June 15, 2018', '8.25.10.00', '4.0.3 and up') aparece 2 veces.\n",
      "La lista ('PJ Masks: Moonlight Heroes', 'FAMILY', '4.4', '86961', '99M', '10,000,000+', 'Free', '0', 'Everyone', 'Casual;Action & Adventure', 'June 5, 2018', '2.0.1', '4.0.3 and up') aparece 2 veces.\n",
      "La lista ('Minion Rush: Despicable Me Official Game', 'FAMILY', '4.5', '10216997', 'Varies with device', '100,000,000+', 'Free', '0', 'Everyone 10+', 'Casual;Action & Adventure', 'July 12, 2018', 'Varies with device', 'Varies with device') aparece 2 veces.\n",
      "La lista ('DisneyNOW – TV Shows & Games', 'FAMILY', '4.3', '82471', 'Varies with device', '5,000,000+', 'Free', '0', 'Everyone', 'Entertainment;Music & Video', 'July 5, 2018', 'Varies with device', '4.4 and up') aparece 2 veces.\n",
      "La lista ('Papumba Academy - Fun Learning For Kids', 'FAMILY', '4.4', '496', '94M', '100,000+', 'Free', '0', 'Everyone', 'Education;Education', 'July 11, 2018', '1.0', '4.2 and up') aparece 3 veces.\n",
      "La lista ('Thomas & Friends: Race On!', 'FAMILY', '4.1', '29319', '26M', '5,000,000+', 'Free', '0', 'Everyone', 'Casual;Action & Adventure', 'May 18, 2018', '2.4', '4.4 and up') aparece 2 veces.\n",
      "La lista ('School of Dragons', 'FAMILY', '4.1', '530792', 'Varies with device', '10,000,000+', 'Free', '0', 'Everyone', 'Role Playing;Action & Adventure', 'May 30, 2018', 'Varies with device', 'Varies with device') aparece 2 veces.\n",
      "La lista ('Strawberry Shortcake BerryRush', 'FAMILY', '4.3', '525552', '48M', '10,000,000+', 'Free', '0', 'Everyone', 'Action;Action & Adventure', 'October 15, 2017', '1.2.3', '2.3 and up') aparece 2 veces.\n",
      "La lista ('Disney Magic Kingdoms: Build Your Own Magical Park', 'FAMILY', '4.3', '472584', '91M', '10,000,000+', 'Free', '0', 'Everyone', 'Simulation;Action & Adventure', 'August 2, 2018', '3.2.0h', '4.0.3 and up') aparece 2 veces.\n",
      "La lista ('Equestria Girls', 'FAMILY', '4.3', '392596', '53M', '10,000,000+', 'Free', '0', 'Everyone', 'Role Playing;Action & Adventure', 'July 22, 2016', '37893', '4.0 and up') aparece 2 veces.\n",
      "La lista ('DC Super Hero Girls™', 'FAMILY', '4.3', '43060', '95M', '5,000,000+', 'Free', '0', 'Everyone', 'Action;Action & Adventure', 'June 29, 2018', '2.8.0', '4.0 and up') aparece 2 veces.\n",
      "La lista ('Inside Out Thought Bubbles', 'FAMILY', '4.4', '623398', '58M', '10,000,000+', 'Free', '0', 'Everyone', 'Puzzle;Brain Games', 'August 31, 2017', '1.22.0', '4.0.3 and up') aparece 2 veces.\n",
      "La lista ('Shopkins World!', 'FAMILY', '4.3', '169609', '34M', '10,000,000+', 'Free', '0', 'Everyone', 'Arcade;Action & Adventure', 'June 13, 2018', '3.6.1', '4.1 and up') aparece 2 veces.\n",
      "La lista ('Kids Balloon Pop Game Free 🎈', 'FAMILY', '4.1', '38021', '19M', '10,000,000+', 'Free', '0', 'Everyone', 'Casual;Music & Video', 'July 6, 2018', '18.2', '4.0.3 and up') aparece 2 veces.\n",
      "La lista ('Sounds for Toddlers FREE', 'FAMILY', '4.4', '6190', '23M', '1,000,000+', 'Free', '0', 'Everyone', 'Educational;Education', 'August 24, 2015', '1.7.1', '4.0 and up') aparece 2 veces.\n",
      "La lista ('Elmo Calls by Sesame Street', 'FAMILY', '3.9', '6903', '25M', '1,000,000+', 'Free', '0', 'Everyone', 'Educational;Pretend Play', 'January 31, 2018', '2.0.7', '2.3 and up') aparece 3 veces.\n",
      "La lista ('Sago Mini Friends', 'FAMILY', '4.4', '13155', '83M', '1,000,000+', 'Free', '0', 'Everyone', 'Education;Pretend Play', 'June 16, 2016', '1.3', '4.0.3 and up') aparece 3 veces.\n",
      "La lista ('Tee and Mo Bath Time Free', 'FAMILY', '3.6', '418', '97M', '100,000+', 'Free', '0', 'Everyone', 'Educational;Education', 'November 7, 2016', '1.0.3', '4.0.3 and up') aparece 2 veces.\n",
      "La lista ('Bita and the Animals - Pelos Ares', 'FAMILY', '4.4', '1160', '37M', '100,000+', 'Free', '0', 'Everyone', 'Education;Music & Video', 'May 22, 2013', '1.0', '2.2 and up') aparece 2 veces.\n",
      "La lista ('TO-FU Oh!SUSHI', 'FAMILY', '4.1', '59917', '92M', '5,000,000+', 'Free', '0', 'Everyone', 'Education;Pretend Play', 'July 31, 2018', '2.3', '4.4 and up') aparece 2 veces.\n",
      "La lista ('DreamWorks Friends', 'FAMILY', '3.6', '1042', '48M', '100,000+', 'Free', '0', 'Everyone', 'Role Playing;Pretend Play', 'August 4, 2017', '2.5', '4.3 and up') aparece 2 veces.\n",
      "La lista ('Avokiddo Emotions', 'FAMILY', '4.6', '73', '12M', '1,000+', 'Paid', '$2.99', 'Everyone', 'Education;Pretend Play', 'May 21, 2018', '1.7.0', '4.0.3 and up') aparece 2 veces.\n",
      "La lista ('Nighty Night Circus', 'FAMILY', '4.3', '382', '15M', '10,000+', 'Paid', '$2.99', 'Everyone', 'Education;Action & Adventure', 'March 7, 2017', '2.6', '2.3 and up') aparece 2 veces.\n",
      "La lista ('Sago Mini Babies', 'FAMILY', '4.5', '253', '83M', '10,000+', 'Paid', '$3.99', 'Everyone', 'Education;Pretend Play', 'October 28, 2016', '1.1', '4.0.3 and up') aparece 2 veces.\n",
      "La lista (\"Dr. Panda & Toto's Treehouse\", 'FAMILY', '4.4', '3396', '9.5M', '50,000+', 'Paid', '$3.99', 'Everyone', 'Casual;Pretend Play', 'December 9, 2014', '1.8', '4.0 and up') aparece 2 veces.\n",
      "La lista ('Monash Uni Low FODMAP Diet', 'MEDICAL', '4.2', '1135', '12M', '100,000+', 'Paid', '$9.00', 'Everyone', 'Medical', 'July 16, 2018', '2.0.7', '4.0 and up') aparece 2 veces.\n",
      "La lista ('iBP Blood Pressure', 'MEDICAL', '4.4', '578', '704k', '10,000+', 'Paid', '$0.99', 'Everyone', 'Medical', 'November 30, 2014', '7.0.1', '2.2 and up') aparece 2 veces.\n",
      "La lista ('Pedi STAT', 'MEDICAL', '4.6', '129', '2.9M', '10,000+', 'Paid', '$5.49', 'Everyone', 'Medical', 'April 6, 2018', '3.0.1.0', '4.1 and up') aparece 2 veces.\n",
      "La lista ('ASCCP Mobile', 'MEDICAL', '4.5', '63', '25M', '10,000+', 'Paid', '$9.99', 'Everyone', 'Medical', 'October 3, 2016', '2.1.1', '2.2 and up') aparece 2 veces.\n",
      "La lista ('Journal Club: Medicine', 'MEDICAL', '4.8', '216', 'Varies with device', '10,000+', 'Paid', '$6.99', 'Everyone', 'Medical', 'June 17, 2017', 'Varies with device', 'Varies with device') aparece 2 veces.\n",
      "La lista ('Paramedic Protocol Provider', 'MEDICAL', '4.5', '171', '20M', '10,000+', 'Paid', '$10.00', 'Everyone 10+', 'Medical', 'September 21, 2017', '1.8.3', '4.1 and up') aparece 2 veces.\n",
      "La lista ('Medical ID - In Case of Emergency (ICE)', 'MEDICAL', '4.6', '717', '5.4M', '5,000+', 'Paid', '$5.99', 'Everyone', 'Medical', 'May 31, 2018', '6.5.0', '5.0 and up') aparece 2 veces.\n",
      "La lista ('Human Anatomy Atlas 2018: Complete 3D Human Body', 'MEDICAL', '4.5', '2921', '25M', '100,000+', 'Paid', '$24.99', 'Everyone', 'Medical', 'May 25, 2018', '2018.5.47', '5.0 and up') aparece 2 veces.\n",
      "La lista ('Essential Anatomy 3', 'MEDICAL', '4.1', '1533', '42M', '50,000+', 'Paid', '$11.99', 'Mature 17+', 'Medical', 'August 7, 2014', '1.1.3', '4.0.3 and up') aparece 2 veces.\n",
      "La lista ('Vargo Anesthesia Mega App', 'MEDICAL', '4.6', '92', '32M', '1,000+', 'Paid', '$79.99', 'Everyone', 'Medical', 'June 18, 2018', '19.0', '4.0.3 and up') aparece 2 veces.\n",
      "La lista ('EMT Review Plus', 'MEDICAL', '4.5', '199', '1.8M', '10,000+', 'Paid', '$11.99', 'Everyone', 'Medical', 'June 27, 2018', '3.0.5', '4.4W and up') aparece 2 veces.\n",
      "La lista ('2017 EMRA Antibiotic Guide', 'MEDICAL', '4.4', '12', '3.8M', '1,000+', 'Paid', '$16.99', 'Everyone', 'Medical', 'January 27, 2017', '1.0.5', '4.0.3 and up') aparece 2 veces.\n",
      "La lista ('IBM Micromedex Drug Info', 'MEDICAL', '3.8', '206', '9.5M', '10,000+', 'Paid', '$2.99', 'Everyone', 'Medical', 'April 25, 2018', '1.17.0', '4.0 and up') aparece 2 veces.\n",
      "La lista ('Diabetes & Diet Tracker', 'MEDICAL', '4.6', '395', '19M', '1,000+', 'Paid', '$9.99', 'Everyone', 'Medical', 'July 16, 2018', '6.5.1', '5.0 and up') aparece 2 veces.\n",
      "La lista ('Block Buddy', 'MEDICAL', '4.0', '15', '5.0M', '1,000+', 'Paid', '$14.99', 'Everyone', 'Medical', 'August 1, 2018', '7.6.14', '4.0 and up') aparece 2 veces.\n",
      "La lista ('EMT PASS', 'MEDICAL', '3.4', '51', '2.4M', '1,000+', 'Paid', '$29.99', 'Everyone', 'Medical', 'October 22, 2014', '2.0.2', '4.0 and up') aparece 2 veces.\n",
      "La lista ('Cardiac diagnosis (heart rate, arrhythmia)', 'MEDICAL', '4.4', '8', '6.5M', '100+', 'Paid', '$12.99', 'Everyone', 'Medical', 'July 25, 2018', '7', '3.0 and up') aparece 2 veces.\n",
      "La lista ('AnatomyMapp', 'MEDICAL', '4.1', '80', '48M', '5,000+', 'Paid', '$14.99', 'Everyone', 'Medical', 'November 5, 2013', '1.0', '3.0 and up') aparece 2 veces.\n",
      "La lista ('Blood Pressure Companion', 'MEDICAL', '4.2', '178', '4.8M', '1,000+', 'Paid', '$0.99', 'Everyone', 'Medical', 'July 22, 2018', '4.1.5 (Steglitz)', '4.1 and up') aparece 2 veces.\n",
      "La lista ('Muscle Premium - Human Anatomy, Kinesiology, Bones', 'MEDICAL', '4.2', '168', '25M', '10,000+', 'Paid', '$24.99', 'Everyone', 'Medical', 'August 11, 2017', '7.1.17', '4.4 and up') aparece 2 veces.\n",
      "La lista ('Advanced Comprehension Therapy', 'MEDICAL', 'NaN', '3', '62M', '100+', 'Paid', '$24.99', 'Everyone', 'Medical', 'October 5, 2017', '1.2', '4.0.3 and up') aparece 2 veces.\n",
      "La lista ('EMT Tutor NREMT-B Study Guide', 'MEDICAL', '4.6', '625', '8.4M', '10,000+', 'Paid', '$3.99', 'Everyone', 'Medical', 'January 8, 2017', '2.1', '2.1 and up') aparece 2 veces.\n",
      "La lista ('Hospitalist Handbook', 'MEDICAL', '4.8', '12', '18M', '1,000+', 'Paid', '$19.99', 'Everyone', 'Medical', 'June 5, 2017', '6.0.4', '4.1 and up') aparece 2 veces.\n",
      "La lista ('PTA Content Master', 'MEDICAL', '4.2', '64', '41M', '1,000+', 'Paid', '$29.99', 'Everyone', 'Medical', 'December 22, 2015', '2.1', '2.2 and up') aparece 2 veces.\n",
      "La lista ('A Manual of Acupuncture', 'MEDICAL', '3.5', '214', '68M', '1,000+', 'Paid', '$33.99', 'Everyone', 'Medical', 'October 2, 2017', '2.1.35', '4.0 and up') aparece 2 veces.\n",
      "La lista ('Teladoc Member', 'MEDICAL', '4.0', '2094', '23M', '500,000+', 'Free', '0', 'Everyone', 'Medical', 'July 26, 2018', '3.19', '4.3 and up') aparece 2 veces.\n",
      "La lista ('Blood Pressure', 'MEDICAL', '4.2', '33033', '7.4M', '5,000,000+', 'Free', '0', 'Everyone', 'Medical', 'July 24, 2018', '3.27.3', '4.1 and up') aparece 2 veces.\n",
      "La lista ('Anthem Anywhere', 'MEDICAL', '2.7', '2657', '24M', '500,000+', 'Free', '0', 'Everyone', 'Medical', 'July 27, 2018', '8.0.226', '4.4 and up') aparece 2 veces.\n",
      "La lista ('1800 Contacts - Lens Store', 'MEDICAL', '4.7', '23160', '26M', '1,000,000+', 'Free', '0', 'Everyone', 'Medical', 'July 27, 2018', '7.4.1', '5.0 and up') aparece 2 veces.\n",
      "La lista (\"fred's Pharmacy\", 'MEDICAL', '3.0', '315', '22M', '100,000+', 'Free', '0', 'Everyone', 'Medical', 'October 10, 2017', '1.0.02', '4.0 and up') aparece 2 veces.\n",
      "La lista ('Ada - Your Health Guide', 'MEDICAL', '4.7', '87418', '14M', '1,000,000+', 'Free', '0', 'Everyone', 'Medical', 'July 16, 2018', '2.25.0', '4.4 and up') aparece 2 veces.\n",
      "La lista ('mySugr: the blood sugar tracker made just for you', 'MEDICAL', '4.6', '21189', '36M', '1,000,000+', 'Free', '0', 'Everyone', 'Medical', 'August 6, 2018', '3.52.1', '5.0 and up') aparece 2 veces.\n",
      "La lista ('All Mental disorders', 'MEDICAL', '4.5', '453', '11M', '100,000+', 'Free', '0', 'Everyone', 'Medical', 'July 7, 2017', '1.1', '4.0.3 and up') aparece 2 veces.\n",
      "La lista ('ScriptSave WellRx Rx Discounts', 'MEDICAL', '3.8', '700', '37M', '100,000+', 'Free', '0', 'Everyone', 'Medical', 'June 21, 2018', '3.3.0', '4.4 and up') aparece 2 veces.\n",
      "La lista ('MoodSpace', 'MEDICAL', '4.5', '503', '22M', '50,000+', 'Free', '0', 'Everyone', 'Medical', 'June 10, 2018', '3.2.4', '5.0 and up') aparece 2 veces.\n",
      "La lista ('Super Hearing Super Ear Amplifier', 'MEDICAL', '4.1', '21', '20M', '1,000+', 'Free', '0', 'Everyone', 'Medical', 'June 11, 2018', '1.1', '4.1 and up') aparece 2 veces.\n",
      "La lista ('Free Blood Pressure', 'MEDICAL', 'NaN', '7', '5.7M', '5,000+', 'Free', '0', 'Everyone', 'Medical', 'October 13, 2016', '3.0.0', '4.0.3 and up') aparece 3 veces.\n",
      "La lista ('Banfield Pet Health Tracker', 'MEDICAL', '4.2', '1747', '5.9M', '100,000+', 'Free', '0', 'Everyone', 'Medical', 'October 17, 2016', '1.2.2', '4.0 and up') aparece 2 veces.\n",
      "La lista ('Nurse Grid', 'MEDICAL', '4.5', '1686', '15M', '100,000+', 'Free', '0', 'Everyone', 'Medical', 'July 30, 2018', '2.9', '4.4 and up') aparece 2 veces.\n",
      "La lista ('PMHNP-BC Pocket Prep', 'MEDICAL', '4.4', '112', '13M', '1,000+', 'Free', '0', 'Everyone', 'Medical', 'July 12, 2018', '4.5.2', '4.4 and up') aparece 2 veces.\n",
      "La lista ('JH Blood Pressure Monitor', 'MEDICAL', '3.7', '9', '2.9M', '500+', 'Free', '0', 'Everyone', 'Medical', 'July 21, 2018', '1.1', '4.0.3 and up') aparece 2 veces.\n",
      "La lista ('Sway Medical', 'MEDICAL', '5.0', '3', '22M', '100+', 'Free', '0', 'Everyone', 'Medical', 'July 25, 2018', '3.0.0', '5.0 and up') aparece 2 veces.\n",
      "La lista ('Penn State Health OnDemand', 'MEDICAL', 'NaN', '0', '40M', '50+', 'Free', '0', 'Everyone', 'Medical', 'July 24, 2018', '10.4.1.018_06', '4.0.3 and up') aparece 2 veces.\n",
      "La lista ('Breastfeeding Tracker Baby Log', 'MEDICAL', 'NaN', '6', '23M', '100+', 'Free', '0', 'Everyone', 'Medical', 'July 20, 2018', '1.3.5', '5.0 and up') aparece 2 veces.\n",
      "La lista ('RT 516 VET', 'MEDICAL', 'NaN', '0', '29M', '10+', 'Free', '0', 'Everyone', 'Medical', 'July 13, 2018', '300000.1.11', '4.0.3 and up') aparece 2 veces.\n",
      "La lista ('Maricopa AH', 'MEDICAL', 'NaN', '0', '29M', '100+', 'Free', '0', 'Everyone', 'Medical', 'July 16, 2018', '300000.1.11', '4.0.3 and up') aparece 2 veces.\n",
      "La lista ('CT Scan Cross Sectional Anatomy', 'MEDICAL', '4.3', '10', '46M', '100+', 'Free', '0', 'Everyone', 'Medical', 'July 19, 2018', '5.0.16', '4.1 and up') aparece 2 veces.\n",
      "La lista ('Anthem BC Anywhere', 'MEDICAL', '2.6', '496', '24M', '100,000+', 'Free', '0', 'Everyone', 'Medical', 'July 27, 2018', '8.0.226', '4.4 and up') aparece 2 veces.\n",
      "La lista ('Blood Pressure(BP) Diary', 'MEDICAL', '3.7', '3596', '8.4M', '1,000,000+', 'Free', '0', 'Everyone', 'Medical', 'July 18, 2018', '4.0.9', '4.0.3 and up') aparece 2 veces.\n",
      "La lista ('AAFP', 'MEDICAL', '3.8', '63', '24M', '10,000+', 'Free', '0', 'Everyone', 'Medical', 'June 22, 2018', '2.3.1', '5.0 and up') aparece 2 veces.\n",
      "La lista ('Airway Ex - Intubate. Anesthetize. Train.', 'MEDICAL', '4.3', '123', '86M', '10,000+', 'Free', '0', 'Everyone', 'Medical', 'June 1, 2018', '0.6.88', '5.0 and up') aparece 2 veces.\n",
      "La lista ('420 BZ Budeze Delivery', 'MEDICAL', '5.0', '2', '11M', '100+', 'Free', '0', 'Mature 17+', 'Medical', 'June 6, 2018', '1.0.1', '4.1 and up') aparece 2 veces.\n",
      "La lista ('Blood Pressure Monitor', 'MEDICAL', '4.3', '17', '6.0M', '10,000+', 'Free', '0', 'Everyone', 'Medical', 'February 25, 2017', '1.0.1', '4.4 and up') aparece 2 veces.\n",
      "La lista ('BP Journal - Blood Pressure Diary', 'MEDICAL', '5.0', '6', '26M', '1,000+', 'Free', '0', 'Everyone', 'Medical', 'May 25, 2018', '1.0.32', '4.4 and up') aparece 2 veces.\n",
      "La lista ('Instagram', 'SOCIAL', '4.5', '66577313', 'Varies with device', '1,000,000,000+', 'Free', '0', 'Teen', 'Social', 'July 31, 2018', 'Varies with device', 'Varies with device') aparece 2 veces.\n",
      "La lista ('Pinterest', 'SOCIAL', '4.6', '4305441', 'Varies with device', '100,000,000+', 'Free', '0', 'Teen', 'Social', 'August 3, 2018', 'Varies with device', 'Varies with device') aparece 2 veces.\n",
      "La lista ('TextNow - free text + calls', 'SOCIAL', '4.4', '441189', 'Varies with device', '10,000,000+', 'Free', '0', 'Everyone', 'Social', 'August 3, 2018', 'Varies with device', 'Varies with device') aparece 2 veces.\n",
      "La lista ('Meetup', 'SOCIAL', '4.2', '79129', '23M', '5,000,000+', 'Free', '0', 'Teen', 'Social', 'August 2, 2018', '3.10.26', '4.4 and up') aparece 2 veces.\n",
      "La lista ('Text Free: WiFi Calling App', 'SOCIAL', '4.2', '83488', 'Varies with device', '5,000,000+', 'Free', '0', 'Everyone', 'Social', 'July 24, 2018', 'Varies with device', 'Varies with device') aparece 2 veces.\n",
      "La lista ('Badoo - Free Chat & Dating App', 'SOCIAL', '4.3', '3781770', 'Varies with device', '100,000,000+', 'Free', '0', 'Mature 17+', 'Social', 'August 2, 2018', 'Varies with device', 'Varies with device') aparece 3 veces.\n",
      "La lista ('Tango - Live Video Broadcast', 'SOCIAL', '4.3', '3806669', 'Varies with device', '100,000,000+', 'Free', '0', 'Mature 17+', 'Social', 'August 1, 2018', 'Varies with device', 'Varies with device') aparece 2 veces.\n",
      "La lista ('MeetMe: Chat & Meet New People', 'SOCIAL', '4.2', '1259894', '76M', '50,000,000+', 'Free', '0', 'Mature 17+', 'Social', 'August 3, 2018', 'Varies with device', '4.1 and up') aparece 3 veces.\n",
      "La lista ('SayHi Chat, Meet New People', 'SOCIAL', '4.2', '423138', 'Varies with device', '10,000,000+', 'Free', '0', 'Mature 17+', 'Social', 'July 9, 2018', 'Varies with device', 'Varies with device') aparece 2 veces.\n",
      "La lista ('Couple - Relationship App', 'SOCIAL', '4.0', '33249', '8.4M', '1,000,000+', 'Free', '0', 'Everyone', 'Social', 'March 5, 2015', '1.8.0', '2.3 and up') aparece 2 veces.\n",
      "La lista ('LOVOO', 'SOCIAL', '4.0', '852455', '68M', '10,000,000+', 'Free', '0', 'Mature 17+', 'Social', 'August 3, 2018', '27.0', '4.2 and up') aparece 2 veces.\n",
      "La lista ('Jaumo Dating, Flirt & Live Video', 'SOCIAL', '4.4', '900064', '13M', '10,000,000+', 'Free', '0', 'Mature 17+', 'Social', 'July 31, 2018', '4.17.2', '4.1 and up') aparece 2 veces.\n",
      "La lista ('Meetup', 'SOCIAL', '4.2', '79130', '23M', '5,000,000+', 'Free', '0', 'Teen', 'Social', 'August 2, 2018', '3.10.26', '4.4 and up') aparece 2 veces.\n",
      "La lista ('Walmart', 'SHOPPING', '4.4', '441473', 'Varies with device', '10,000,000+', 'Free', '0', 'Everyone', 'Shopping', 'July 30, 2018', 'Varies with device', 'Varies with device') aparece 2 veces.\n",
      "La lista ('eBay: Buy & Sell this Summer - Discover Deals Now!', 'SHOPPING', '4.4', '2788923', 'Varies with device', '100,000,000+', 'Free', '0', 'Teen', 'Shopping', 'July 30, 2018', 'Varies with device', 'Varies with device') aparece 4 veces.\n",
      "La lista ('Carousell: Snap-Sell, Chat-Buy', 'SHOPPING', '4.3', '125783', 'Varies with device', '10,000,000+', 'Free', '0', 'Teen', 'Shopping', 'August 6, 2018', 'Varies with device', 'Varies with device') aparece 2 veces.\n",
      "La lista ('ZALORA Fashion Shopping', 'SHOPPING', '4.2', '142512', '15M', '10,000,000+', 'Free', '0', 'Everyone', 'Shopping', 'July 25, 2018', '6.2.0', '4.1 and up') aparece 2 veces.\n",
      "La lista ('Target - now with Cartwheel', 'SHOPPING', '4.1', '68406', '24M', '10,000,000+', 'Free', '0', 'Everyone', 'Shopping', 'July 25, 2018', '6.25.0+1906001476', '5.0 and up') aparece 2 veces.\n",
      "La lista ('Extreme Coupon Finder', 'SHOPPING', '4.1', '11798', 'Varies with device', '1,000,000+', 'Free', '0', 'Everyone', 'Shopping', 'May 10, 2018', 'Varies with device', 'Varies with device') aparece 3 veces.\n",
      "La lista ('SnipSnap Coupon App', 'SHOPPING', '4.2', '9975', '18M', '1,000,000+', 'Free', '0', 'Everyone', 'Shopping', 'January 22, 2018', '1.4', '4.3 and up') aparece 2 veces.\n",
      "La lista ('Checkout 51: Grocery coupons', 'SHOPPING', '4.1', '52896', 'Varies with device', '10,000,000+', 'Free', '0', 'Everyone', 'Shopping', 'June 18, 2018', 'Varies with device', 'Varies with device') aparece 3 veces.\n",
      "La lista ('Gyft - Mobile Gift Card Wallet', 'SHOPPING', '4.1', '9701', '14M', '500,000+', 'Free', '0', 'Everyone', 'Shopping', 'July 25, 2018', '2.4.0', '4.4 and up') aparece 3 veces.\n",
      "La lista ('The Coupons App', 'SHOPPING', '4.5', '181990', 'Varies with device', '10,000,000+', 'Free', '0', 'Everyone', 'Shopping', 'April 27, 2018', 'Varies with device', 'Varies with device') aparece 3 veces.\n",
      "La lista ('Shopkick: Free Gift Cards, Shop Rewards & Deals', 'SHOPPING', '4.3', '213735', '43M', '10,000,000+', 'Free', '0', 'Everyone', 'Shopping', 'July 24, 2018', '5.3.73', '4.4 and up') aparece 2 veces.\n",
      "La lista ('Wish - Shopping Made Fun', 'SHOPPING', '4.5', '6211039', '15M', '100,000,000+', 'Free', '0', 'Everyone', 'Shopping', 'August 3, 2018', '4.20.5', '4.1 and up') aparece 2 veces.\n",
      "La lista ('Ibotta: Cash Back Savings, Rewards & Coupons App', 'SHOPPING', '4.5', '315908', '52M', '10,000,000+', 'Free', '0', 'Everyone', 'Shopping', 'August 1, 2018', '5.21.1', '4.1 and up') aparece 2 veces.\n",
      "La lista ('RetailMeNot - Coupons, Deals & Discount Shopping', 'SHOPPING', '4.4', '210208', 'Varies with device', '10,000,000+', 'Free', '0', 'Everyone', 'Shopping', 'August 1, 2018', 'Varies with device', 'Varies with device') aparece 3 veces.\n",
      "La lista ('Groupon - Shop Deals, Discounts & Coupons', 'SHOPPING', '4.6', '1370749', 'Varies with device', '50,000,000+', 'Free', '0', 'Teen', 'Shopping', 'August 3, 2018', 'Varies with device', 'Varies with device') aparece 3 veces.\n",
      "La lista ('Poshmark - Buy & Sell Fashion', 'SHOPPING', '4.3', '46153', '17M', '10,000,000+', 'Free', '0', 'Everyone', 'Shopping', 'August 4, 2018', '2.124.01', '4.4 and up') aparece 2 veces.\n",
      "La lista ('Shopular: Coupons, Weekly Ads & Shopping Deals', 'SHOPPING', '4.7', '57920', 'Varies with device', '1,000,000+', 'Free', '0', 'Everyone', 'Shopping', 'May 31, 2018', 'Varies with device', 'Varies with device') aparece 2 veces.\n",
      "La lista ('LivingSocial - Local Deals', 'SHOPPING', '4.1', '28523', '29M', '5,000,000+', 'Free', '0', 'Everyone', 'Shopping', 'August 3, 2018', '18.10.157066', '4.4 and up') aparece 3 veces.\n",
      "La lista (\"Modcloth – Unique Indie Women's Fashion & Style\", 'SHOPPING', '4.2', '5121', '8.8M', '500,000+', 'Free', '0', 'Everyone', 'Shopping', 'July 13, 2018', '9.0.30', '4.1 and up') aparece 2 veces.\n",
      "La lista ('Fancy', 'SHOPPING', '4.2', '39735', '18M', '5,000,000+', 'Free', '0', 'Teen', 'Shopping', 'July 25, 2018', '3.13.09', '4.0 and up') aparece 3 veces.\n",
      "La lista (\"JackThreads: Men's Shopping\", 'SHOPPING', '4.0', '13085', '2.7M', '1,000,000+', 'Free', '0', 'Teen', 'Shopping', 'November 8, 2017', '5.1', '4.0.3 and up') aparece 3 veces.\n",
      "La lista ('Zappos – Shoe shopping made simple', 'SHOPPING', '4.5', '44588', '20M', '5,000,000+', 'Free', '0', 'Everyone', 'Shopping', 'July 12, 2018', '9.0.0', '4.4 and up') aparece 2 veces.\n",
      "La lista ('Slickdeals: Coupons & Shopping', 'SHOPPING', '4.5', '33583', '12M', '1,000,000+', 'Free', '0', 'Everyone', 'Shopping', 'July 30, 2018', '3.9', '4.4 and up') aparece 2 veces.\n",
      "La lista ('Wanelo Shopping', 'SHOPPING', '4.6', '94205', '6.5M', '1,000,000+', 'Free', '0', 'Everyone', 'Shopping', 'June 13, 2018', '5.6.8', '4.4 and up') aparece 2 veces.\n",
      "La lista ('Etsy: Handmade & Vintage Goods', 'SHOPPING', '4.3', '95520', '15M', '10,000,000+', 'Free', '0', 'Teen', 'Shopping', 'August 3, 2018', '5.3.1', '4.1 and up') aparece 2 veces.\n",
      "La lista ('Shutterfly: Free Prints, Photo Books, Cards, Gifts', 'PHOTOGRAPHY', '4.6', '98716', '59M', '5,000,000+', 'Free', '0', 'Everyone', 'Photography', 'August 1, 2018', '5.13.1', '5.0 and up') aparece 3 veces.\n",
      "La lista ('YouCam Perfect - Selfie Photo Editor', 'PHOTOGRAPHY', '4.5', '1579287', 'Varies with device', '100,000,000+', 'Free', '0', 'Everyone', 'Photography', 'July 25, 2018', 'Varies with device', 'Varies with device') aparece 2 veces.\n",
      "La lista ('Open Camera', 'PHOTOGRAPHY', '4.3', '116880', '2.0M', '10,000,000+', 'Free', '0', 'Everyone', 'Photography', 'April 23, 2018', '1.43.3', '4.0.3 and up') aparece 2 veces.\n",
      "La lista ('Muzy - Share photos & collages', 'PHOTOGRAPHY', '4.4', '70189', '13M', '5,000,000+', 'Free', '0', 'Teen', 'Photography', 'August 11, 2015', '4.0.10', '4.0 and up') aparece 2 veces.\n",
      "La lista ('QuickPic - Photo Gallery with Google Drive Support', 'PHOTOGRAPHY', '4.6', '847159', '4.2M', '10,000,000+', 'Free', '0', 'Everyone', 'Photography', 'November 10, 2017', '4.7.4', '4.0 and up') aparece 2 veces.\n",
      "La lista ('Flickr', 'PHOTOGRAPHY', '4.3', '251951', '16M', '10,000,000+', 'Free', '0', 'Mature 17+', 'Photography', 'July 11, 2018', '4.7.3', '4.4 and up') aparece 2 veces.\n",
      "La lista ('Camera for Android', 'PHOTOGRAPHY', '4.2', '240475', '9.5M', '10,000,000+', 'Free', '0', 'Everyone', 'Photography', 'November 22, 2017', '3.8', '4.0 and up') aparece 3 veces.\n",
      "La lista ('Cymera Camera- Photo Editor, Filter,Collage,Layout', 'PHOTOGRAPHY', '4.4', '2418135', 'Varies with device', '100,000,000+', 'Free', '0', 'Everyone', 'Photography', 'July 12, 2018', 'Varies with device', 'Varies with device') aparece 2 veces.\n",
      "La lista ('Facetune - For Free', 'PHOTOGRAPHY', '4.4', '49553', '48M', '1,000,000+', 'Paid', '$5.99', 'Everyone', 'Photography', 'July 25, 2018', '1.3.1', '4.1 and up') aparece 3 veces.\n",
      "La lista ('BeautyPlus - Easy Photo Editor & Selfie Camera', 'PHOTOGRAPHY', '4.4', '3158151', '53M', '100,000,000+', 'Free', '0', 'Everyone', 'Photography', 'July 31, 2018', '6.9.031', '4.1 and up') aparece 2 veces.\n",
      "La lista ('ESPN', 'SPORTS', '4.2', '521138', 'Varies with device', '10,000,000+', 'Free', '0', 'Everyone 10+', 'Sports', 'July 19, 2018', 'Varies with device', '5.0 and up') aparece 3 veces.\n",
      "La lista ('MLB At Bat', 'SPORTS', '4.2', '82882', 'Varies with device', '5,000,000+', 'Free', '0', 'Everyone', 'Sports', 'July 30, 2018', 'Varies with device', 'Varies with device') aparece 2 veces.\n",
      "La lista ('NFL', 'SPORTS', '4.1', '459795', 'Varies with device', '50,000,000+', 'Free', '0', 'Everyone', 'Sports', 'August 2, 2018', 'Varies with device', 'Varies with device') aparece 2 veces.\n",
      "La lista ('theScore: Live Sports Scores, News, Stats & Videos', 'SPORTS', '4.4', '133825', '34M', '10,000,000+', 'Free', '0', 'Everyone 10+', 'Sports', 'July 25, 2018', '6.17.2', '4.4 and up') aparece 2 veces.\n",
      "La lista ('CBS Sports App - Scores, News, Stats & Watch Live', 'SPORTS', '4.3', '91031', 'Varies with device', '5,000,000+', 'Free', '0', 'Everyone', 'Sports', 'August 4, 2018', 'Varies with device', '5.0 and up') aparece 4 veces.\n",
      "La lista ('ESPN Fantasy Sports', 'SPORTS', '4.0', '176448', '10M', '5,000,000+', 'Free', '0', 'Everyone', 'Sports', 'November 21, 2017', '5.3.0', '4.4 and up') aparece 2 veces.\n",
      "La lista ('Bleacher Report: sports news, scores, & highlights', 'SPORTS', '4.4', '122282', 'Varies with device', '5,000,000+', 'Free', '0', 'Everyone 10+', 'Sports', 'July 20, 2018', 'Varies with device', 'Varies with device') aparece 2 veces.\n",
      "La lista ('Hole19: Golf GPS App, Rangefinder & Scorecard', 'SPORTS', '4.4', '6106', 'Varies with device', '100,000+', 'Free', '0', 'Everyone', 'Sports', 'August 1, 2018', 'Varies with device', 'Varies with device') aparece 2 veces.\n",
      "La lista ('WatchESPN', 'SPORTS', '4.1', '288809', '6.6M', '10,000,000+', 'Free', '0', 'Everyone', 'Sports', 'September 27, 2017', '2.5.1', '4.4 and up') aparece 4 veces.\n",
      "La lista ('CBS Sports Fantasy', 'SPORTS', '4.0', '43611', '27M', '1,000,000+', 'Free', '0', 'Everyone', 'Sports', 'June 27, 2018', '3.17.0+3', '5.0 and up') aparece 2 veces.\n",
      "La lista ('UFC', 'SPORTS', '4.0', '30840', 'Varies with device', '1,000,000+', 'Free', '0', 'Teen', 'Sports', 'May 22, 2018', 'Varies with device', 'Varies with device') aparece 2 veces.\n",
      "La lista ('Golfshot: Golf GPS + Tee Times', 'SPORTS', '4.3', '7543', '25M', '500,000+', 'Free', '0', 'Everyone', 'Sports', 'July 11, 2018', '1.31.0', '4.1 and up') aparece 2 veces.\n",
      "La lista ('PGA TOUR', 'SPORTS', '4.0', '11151', '52M', '1,000,000+', 'Free', '0', 'Everyone', 'Sports', 'June 27, 2018', '2018.6', '5.0 and up') aparece 2 veces.\n",
      "La lista ('Yahoo Fantasy Sports - #1 Rated Fantasy App', 'SPORTS', '4.2', '277904', 'Varies with device', '5,000,000+', 'Free', '0', 'Mature 17+', 'Sports', 'August 2, 2018', 'Varies with device', 'Varies with device') aparece 2 veces.\n",
      "La lista ('Fantasy Football', 'SPORTS', '3.5', '50179', '23M', '1,000,000+', 'Free', '0', 'Everyone', 'Sports', 'August 2, 2018', '2.5.7.1', '5.0 and up') aparece 2 veces.\n",
      "La lista ('ESPN', 'SPORTS', '4.2', '521140', 'Varies with device', '10,000,000+', 'Free', '0', 'Everyone 10+', 'Sports', 'July 19, 2018', 'Varies with device', '5.0 and up') aparece 3 veces.\n",
      "La lista ('US Open Tennis Championships 2018', 'SPORTS', '4.0', '9971', '33M', '1,000,000+', 'Free', '0', 'Everyone', 'Sports', 'June 5, 2018', '7.1', '5.0 and up') aparece 2 veces.\n",
      "La lista ('Bleacher Report: sports news, scores, & highlights', 'SPORTS', '4.4', '122283', 'Varies with device', '5,000,000+', 'Free', '0', 'Everyone 10+', 'Sports', 'July 20, 2018', 'Varies with device', 'Varies with device') aparece 3 veces.\n",
      "La lista ('theScore: Live Sports Scores, News, Stats & Videos', 'SPORTS', '4.4', '133833', '34M', '10,000,000+', 'Free', '0', 'Everyone 10+', 'Sports', 'July 25, 2018', '6.17.2', '4.4 and up') aparece 3 veces.\n",
      "La lista ('CBS Sports App - Scores, News, Stats & Watch Live', 'SPORTS', '4.3', '91033', 'Varies with device', '5,000,000+', 'Free', '0', 'Everyone', 'Sports', 'August 4, 2018', 'Varies with device', '5.0 and up') aparece 3 veces.\n",
      "La lista ('Yahoo Sports - scores, stats, news, & highlights', 'SPORTS', '4.5', '32386', '19M', '1,000,000+', 'Free', '0', 'Everyone', 'Sports', 'August 1, 2018', '7.8.0', '5.1 and up') aparece 3 veces.\n",
      "La lista ('MLB At Bat', 'SPORTS', '4.2', '82883', 'Varies with device', '5,000,000+', 'Free', '0', 'Everyone', 'Sports', 'July 30, 2018', 'Varies with device', 'Varies with device') aparece 2 veces.\n",
      "La lista ('FOX Sports: Live Streaming, Scores & News', 'SPORTS', '4.0', '28895', '82M', '5,000,000+', 'Free', '0', 'Teen', 'Sports', 'August 2, 2018', '4.4.15', '5.0 and up') aparece 2 veces.\n",
      "La lista ('Expedia Hotels, Flights & Car Rental Travel Deals', 'TRAVEL_AND_LOCAL', '4.1', '136626', '14M', '10,000,000+', 'Free', '0', 'Everyone', 'Travel & Local', 'August 6, 2018', '18.30.0', '5.0 and up') aparece 3 veces.\n",
      "La lista ('trivago: Hotels & Travel', 'TRAVEL_AND_LOCAL', '4.2', '219848', 'Varies with device', '50,000,000+', 'Free', '0', 'Everyone', 'Travel & Local', 'August 2, 2018', 'Varies with device', 'Varies with device') aparece 3 veces.\n",
      "La lista ('KAYAK Flights, Hotels & Cars', 'TRAVEL_AND_LOCAL', '4.5', '216388', '19M', '10,000,000+', 'Free', '0', 'Everyone', 'Travel & Local', 'July 31, 2018', 'Varies with device', 'Varies with device') aparece 3 veces.\n",
      "La lista ('Booking.com Travel Deals', 'TRAVEL_AND_LOCAL', '4.7', '1830388', 'Varies with device', '100,000,000+', 'Free', '0', 'Everyone', 'Travel & Local', 'August 6, 2018', 'Varies with device', 'Varies with device') aparece 2 veces.\n",
      "La lista ('Hostelworld: Hostels & Cheap Hotels Travel App', 'TRAVEL_AND_LOCAL', '4.4', '17878', '28M', '1,000,000+', 'Free', '0', 'Everyone', 'Travel & Local', 'July 16, 2018', '6.7.1', '4.1 and up') aparece 2 veces.\n",
      "La lista ('TripAdvisor Hotels Flights Restaurants Attractions', 'TRAVEL_AND_LOCAL', '4.4', '1162837', 'Varies with device', '100,000,000+', 'Free', '0', 'Everyone', 'Travel & Local', 'August 4, 2018', 'Varies with device', 'Varies with device') aparece 3 veces.\n",
      "La lista ('Southwest Airlines', 'TRAVEL_AND_LOCAL', '3.9', '24781', '8.3M', '5,000,000+', 'Free', '0', 'Everyone', 'Travel & Local', 'July 11, 2018', '5.6.1', '6.0 and up') aparece 2 veces.\n",
      "La lista ('Fly Delta', 'TRAVEL_AND_LOCAL', '3.7', '27560', '46M', '5,000,000+', 'Free', '0', 'Everyone', 'Travel & Local', 'July 31, 2018', '4.13.2', '5.0 and up') aparece 2 veces.\n",
      "La lista ('Skyscanner', 'TRAVEL_AND_LOCAL', '4.5', '481546', '29M', '10,000,000+', 'Free', '0', 'Everyone', 'Travel & Local', 'August 6, 2018', '5.48', '4.4 and up') aparece 4 veces.\n",
      "La lista ('Priceline Hotel Deals, Rental Cars & Flights', 'TRAVEL_AND_LOCAL', '4.4', '48930', '15M', '5,000,000+', 'Free', '0', 'Everyone', 'Travel & Local', 'July 26, 2018', '4.38.176', '4.4 and up') aparece 3 veces.\n",
      "La lista ('American Airlines', 'TRAVEL_AND_LOCAL', '3.7', '16980', 'Varies with device', '5,000,000+', 'Free', '0', 'Everyone', 'Travel & Local', 'July 18, 2018', 'Varies with device', 'Varies with device') aparece 2 veces.\n",
      "La lista ('United Airlines', 'TRAVEL_AND_LOCAL', '3.5', '30447', '80M', '5,000,000+', 'Free', '0', 'Everyone', 'Travel & Local', 'July 20, 2018', '2.1.56', '5.0 and up') aparece 2 veces.\n",
      "La lista ('Orbitz - Hotels, Flights & Package Deals', 'TRAVEL_AND_LOCAL', '4.4', '33256', 'Varies with device', '1,000,000+', 'Free', '0', 'Everyone', 'Travel & Local', 'July 31, 2018', 'Varies with device', 'Varies with device') aparece 2 veces.\n",
      "La lista ('HotelTonight: Book amazing deals at great hotels', 'TRAVEL_AND_LOCAL', '4.4', '57573', 'Varies with device', '5,000,000+', 'Free', '0', 'Everyone', 'Travel & Local', 'July 31, 2018', 'Varies with device', 'Varies with device') aparece 2 veces.\n",
      "La lista ('Nova Launcher', 'PERSONALIZATION', '4.6', '1121805', 'Varies with device', '50,000,000+', 'Free', '0', 'Everyone', 'Personalization', 'May 14, 2018', 'Varies with device', 'Varies with device') aparece 2 veces.\n",
      "La lista ('ZEDGE™ Ringtones & Wallpapers', 'PERSONALIZATION', '4.6', '6466641', 'Varies with device', '100,000,000+', 'Free', '0', 'Teen', 'Personalization', 'July 19, 2018', 'Varies with device', 'Varies with device') aparece 3 veces.\n",
      "La lista ('Beautiful Widgets Pro', 'PERSONALIZATION', '4.2', '97890', '14M', '1,000,000+', 'Paid', '$2.49', 'Everyone', 'Personalization', 'August 24, 2016', '5.7.8', '2.3 and up') aparece 2 veces.\n",
      "La lista ('Google PDF Viewer', 'PRODUCTIVITY', '4.2', '226456', 'Varies with device', '10,000,000+', 'Free', '0', 'Everyone', 'Productivity', 'October 9, 2017', 'Varies with device', 'Varies with device') aparece 2 veces.\n",
      "La lista ('Google Keep', 'PRODUCTIVITY', '4.4', '691474', 'Varies with device', '100,000,000+', 'Free', '0', 'Everyone', 'Productivity', 'August 6, 2018', 'Varies with device', 'Varies with device') aparece 4 veces.\n",
      "La lista ('Evernote – Organizer, Planner for Notes & Memos', 'PRODUCTIVITY', '4.6', '1488396', 'Varies with device', '100,000,000+', 'Free', '0', 'Everyone', 'Productivity', 'August 3, 2018', 'Varies with device', 'Varies with device') aparece 2 veces.\n",
      "La lista ('Do It Later: Tasks & To-Dos', 'PRODUCTIVITY', '4.5', '123412', 'Varies with device', '50,000,000+', 'Free', '0', 'Everyone', 'Productivity', 'April 13, 2018', 'Varies with device', 'Varies with device') aparece 2 veces.\n",
      "La lista ('TickTick: To Do List with Reminder, Day Planner', 'PRODUCTIVITY', '4.6', '25370', 'Varies with device', '1,000,000+', 'Free', '0', 'Everyone', 'Productivity', 'August 6, 2018', 'Varies with device', 'Varies with device') aparece 2 veces.\n",
      "La lista ('Planner Pro-Personal Organizer', 'PRODUCTIVITY', '4.0', '10270', '8.4M', '1,000,000+', 'Free', '0', 'Everyone', 'Productivity', 'March 23, 2018', '4.4.1', '4.0 and up') aparece 2 veces.\n",
      "La lista ('Todoist: To-do lists for task management & errands', 'PRODUCTIVITY', '4.5', '155999', '12M', '10,000,000+', 'Free', '0', 'Everyone', 'Productivity', 'August 5, 2018', '12.8.2', '4.4 and up') aparece 2 veces.\n",
      "La lista ('Google Drive', 'PRODUCTIVITY', '4.4', '2731211', 'Varies with device', '1,000,000,000+', 'Free', '0', 'Everyone', 'Productivity', 'August 6, 2018', 'Varies with device', 'Varies with device') aparece 2 veces.\n",
      "La lista ('Google Docs', 'PRODUCTIVITY', '4.3', '815974', 'Varies with device', '100,000,000+', 'Free', '0', 'Everyone', 'Productivity', 'August 6, 2018', 'Varies with device', 'Varies with device') aparece 2 veces.\n",
      "La lista ('Polaris Office - Word, Docs, Sheets, Slide, PDF', 'PRODUCTIVITY', '4.3', '549900', '60M', '10,000,000+', 'Free', '0', 'Everyone', 'Productivity', 'July 18, 2018', '7.3.30', '4.1 and up') aparece 2 veces.\n",
      "La lista ('ColorNote Notepad Notes', 'PRODUCTIVITY', '4.6', '2401017', 'Varies with device', '100,000,000+', 'Free', '0', 'Everyone', 'Productivity', 'June 27, 2018', 'Varies with device', 'Varies with device') aparece 2 veces.\n",
      "La lista ('Notepad & To do list', 'PRODUCTIVITY', '4.3', '226295', '4.2M', '10,000,000+', 'Free', '0', 'Everyone', 'Productivity', 'June 6, 2018', '4.3.19', '2.3.3 and up') aparece 2 veces.\n",
      "La lista ('Wunderlist: To-Do List & Tasks', 'PRODUCTIVITY', '4.6', '404610', 'Varies with device', '10,000,000+', 'Free', '0', 'Everyone', 'Productivity', 'April 6, 2018', 'Varies with device', 'Varies with device') aparece 2 veces.\n",
      "La lista ('Any.do: To-do list, Calendar, Reminders & Planner', 'PRODUCTIVITY', '4.5', '298854', 'Varies with device', '10,000,000+', 'Free', '0', 'Everyone', 'Productivity', 'August 5, 2018', 'Varies with device', 'Varies with device') aparece 2 veces.\n",
      "La lista ('To-Do Calendar Planner', 'PRODUCTIVITY', '4.2', '30291', 'Varies with device', '1,000,000+', 'Free', '0', 'Everyone', 'Productivity', 'May 29, 2018', 'Varies with device', 'Varies with device') aparece 2 veces.\n",
      "La lista ('Fox News – Breaking News, Live Video & News Alerts', 'NEWS_AND_MAGAZINES', '4.5', '249919', 'Varies with device', '10,000,000+', 'Free', '0', 'Everyone 10+', 'News & Magazines', 'July 30, 2018', 'Varies with device', 'Varies with device') aparece 3 veces.\n",
      "La lista ('BBC News', 'NEWS_AND_MAGAZINES', '4.3', '296781', 'Varies with device', '10,000,000+', 'Free', '0', 'Everyone 10+', 'News & Magazines', 'July 24, 2018', 'Varies with device', 'Varies with device') aparece 3 veces.\n",
      "La lista ('CNN Breaking US & World News', 'NEWS_AND_MAGAZINES', '4.0', '293080', '25M', '10,000,000+', 'Free', '0', 'Everyone 10+', 'News & Magazines', 'August 6, 2018', '5.17', '4.4 and up') aparece 3 veces.\n",
      "La lista ('Google News', 'NEWS_AND_MAGAZINES', '3.9', '877635', '13M', '1,000,000,000+', 'Free', '0', 'Teen', 'News & Magazines', 'August 1, 2018', '5.2.0', '4.4 and up') aparece 2 veces.\n",
      "La lista ('Twitter', 'NEWS_AND_MAGAZINES', '4.3', '11667403', 'Varies with device', '500,000,000+', 'Free', '0', 'Mature 17+', 'News & Magazines', 'August 6, 2018', 'Varies with device', 'Varies with device') aparece 2 veces.\n",
      "La lista ('Flipboard: News For Our Time', 'NEWS_AND_MAGAZINES', '4.4', '1284017', 'Varies with device', '500,000,000+', 'Free', '0', 'Everyone 10+', 'News & Magazines', 'August 3, 2018', 'Varies with device', 'Varies with device') aparece 2 veces.\n",
      "La lista ('BuzzFeed: News, Tasty, Quizzes', 'NEWS_AND_MAGAZINES', '4.3', '131028', '13M', '5,000,000+', 'Free', '0', 'Teen', 'News & Magazines', 'July 30, 2018', '5.38', '4.4 and up') aparece 2 veces.\n",
      "La lista ('USA TODAY', 'NEWS_AND_MAGAZINES', '4.1', '49259', 'Varies with device', '5,000,000+', 'Free', '0', 'Everyone 10+', 'News & Magazines', 'August 2, 2018', 'Varies with device', 'Varies with device') aparece 3 veces.\n",
      "La lista ('The Wall Street Journal: Business & Market News', 'NEWS_AND_MAGAZINES', '4.1', '40975', '36M', '1,000,000+', 'Free', '0', 'Everyone 10+', 'News & Magazines', 'August 2, 2018', '4.4.2.19', '4.1 and up') aparece 2 veces.\n",
      "La lista ('NYTimes - Latest News', 'NEWS_AND_MAGAZINES', '3.9', '63647', '23M', '10,000,000+', 'Free', '0', 'Everyone 10+', 'News & Magazines', 'August 1, 2018', '6.19.5', '4.4 and up') aparece 2 veces.\n",
      "La lista ('NPR News', 'NEWS_AND_MAGAZINES', '4.0', '24790', 'Varies with device', '1,000,000+', 'Free', '0', 'Everyone', 'News & Magazines', 'July 20, 2018', 'Varies with device', 'Varies with device') aparece 2 veces.\n",
      "La lista ('Haystack TV: Local & World News - Free', 'NEWS_AND_MAGAZINES', '4.3', '3684', 'Varies with device', '100,000+', 'Free', '0', 'Everyone 10+', 'News & Magazines', 'August 2, 2018', 'Varies with device', 'Varies with device') aparece 2 veces.\n",
      "La lista ('ABC News - US & World News', 'NEWS_AND_MAGAZINES', '4.0', '18976', '35M', '1,000,000+', 'Free', '0', 'Everyone 10+', 'News & Magazines', 'June 6, 2018', '3.19.11', '5.0 and up') aparece 2 veces.\n",
      "La lista ('NBC News', 'NEWS_AND_MAGAZINES', '4.1', '63020', 'Varies with device', '5,000,000+', 'Free', '0', 'Everyone 10+', 'News & Magazines', 'February 13, 2018', 'Varies with device', 'Varies with device') aparece 2 veces.\n",
      "La lista ('Newsroom: News Worth Sharing', 'NEWS_AND_MAGAZINES', '4.2', '201737', 'Varies with device', '10,000,000+', 'Free', '0', 'Everyone 10+', 'News & Magazines', 'July 3, 2018', 'Varies with device', 'Varies with device') aparece 2 veces.\n"
     ]
    }
   ],
   "source": [
    "# Solution\n",
    "# Diccionario para almacenar la frecuencia de cada lista interna duplicada\n",
    "frecuencia_duplicados = {}\n",
    "\n",
    "# Iterar sobre cada lista interna en la lista google\n",
    "for sublista in google:\n",
    "    sublista_tupla = tuple(sublista)  # Convertir la lista interna a una tupla\n",
    "    if sublista_tupla in frecuencia_duplicados:\n",
    "        # Incrementar la frecuencia si la lista interna ya está en el diccionario\n",
    "        frecuencia_duplicados[sublista_tupla] += 1\n",
    "    else:\n",
    "        # Agregar la lista interna convertida a tupla al diccionario con una frecuencia inicial de 1\n",
    "        frecuencia_duplicados[sublista_tupla] = 1\n",
    "\n",
    "# Filtrar el diccionario para mostrar solo las listas internas duplicadas con sus frecuencias\n",
    "duplicados_con_frecuencia = {key: value for key, value in frecuencia_duplicados.items() if value > 1}\n",
    "\n",
    "# Mostrar las listas internas duplicadas con sus frecuencias\n",
    "if len(duplicados_con_frecuencia) > 0:\n",
    "    print(\"Listas internas duplicadas y sus frecuencias:\")\n",
    "    for sublista, frecuencia in duplicados_con_frecuencia.items():\n",
    "        print(f\"La lista {sublista} aparece {frecuencia} veces.\")\n",
    "else:\n",
    "    print(\"No se encontraron listas internas duplicadas en la lista.\")"
   ]
  },
  {
   "cell_type": "markdown",
   "metadata": {},
   "source": [
    "5. Remove duplicates ..."
   ]
  },
  {
   "cell_type": "markdown",
   "metadata": {},
   "source": [
    "5. a. Create a dictionary, where each dictionary key is a unique app name and the corresponding dictionary value is the highest number of reviews of that app\n"
   ]
  },
  {
   "cell_type": "code",
   "execution_count": 12,
   "metadata": {},
   "outputs": [],
   "source": [
    "# Solution\n",
    "# Eliminar la fila de encabezado para facilitar el procesamiento\n",
    "datos_sin_encabezado = google[1:]\n",
    "\n",
    "# Crear un diccionario para almacenar el mayor número de revisiones por aplicación\n",
    "dicc_max_revisiones = {}\n",
    "\n",
    "# Recorrer los datos y guardar el mayor número de revisiones para cada aplicación\n",
    "for fila in datos_sin_encabezado:\n",
    "    app = fila[0]\n",
    "    reviews = int(fila[3].replace(',', ''))\n",
    "\n",
    "    if app in dicc_max_revisiones:\n",
    "        dicc_max_revisiones[app] = max(dicc_max_revisiones[app], reviews)\n",
    "    else:\n",
    "        dicc_max_revisiones[app] = reviews"
   ]
  },
  {
   "cell_type": "markdown",
   "metadata": {},
   "source": [
    "5. b. Use the information stored in the dictionary and create a new dataset, which will have only one entry per app (and for each app, we'll only select the entry with the highest number of reviews).\n"
   ]
  },
  {
   "cell_type": "code",
   "execution_count": 13,
   "metadata": {},
   "outputs": [],
   "source": [
    "# Solution\n",
    "# Eliminar la fila de encabezado para facilitar el procesamiento\n",
    "datos_sin_encabezado = google[1:]\n",
    "\n",
    "# Crear un diccionario para almacenar la fila con el mayor número de revisiones por aplicación\n",
    "dicc_filas_max_revisiones = {}\n",
    "\n",
    "# Recorrer los datos y guardar la fila con el mayor número de revisiones para cada aplicación\n",
    "for fila in datos_sin_encabezado:\n",
    "    app = fila[0]\n",
    "    reviews = int(fila[3].replace(',', ''))  \n",
    "\n",
    "    if app in dicc_filas_max_revisiones:\n",
    "        if reviews > int(dicc_filas_max_revisiones[app][3]):\n",
    "            dicc_filas_max_revisiones[app] = fila\n",
    "    else:\n",
    "        dicc_filas_max_revisiones[app] = fila\n",
    "\n",
    "# Crear un nuevo dataset con las filas seleccionadas\n",
    "nuevo_dataset = [google[0]]  # Agregar el encabezado al nuevo conjunto de datos\n",
    "\n",
    "for fila in dicc_filas_max_revisiones.values():\n",
    "    nuevo_dataset.append(fila)"
   ]
  },
  {
   "cell_type": "markdown",
   "metadata": {},
   "source": [
    "5. c. Explore the cleaned dataset, it should have 9,659 rows"
   ]
  },
  {
   "cell_type": "code",
   "execution_count": 14,
   "metadata": {},
   "outputs": [
    {
     "name": "stdout",
     "output_type": "stream",
     "text": [
      "La cantidad de filas en el conjunto de datos limpio es: 9659\n"
     ]
    }
   ],
   "source": [
    "# Solution\n",
    "# Mostrar la cantidad de filas en el nuevo conjunto de datos (limpio)\n",
    "cantidad_filas_limpias = len(nuevo_dataset) - 1  # Restar 1 para excluir el encabezado\n",
    "\n",
    "print(\"La cantidad de filas en el conjunto de datos limpio es:\", cantidad_filas_limpias)"
   ]
  },
  {
   "cell_type": "markdown",
   "metadata": {},
   "source": [
    "6. Remove non-english apps from both Android and Apple datasets. You should write a function that takes a string, if there's more than three characters that fall outside the ASCII range (0 - 127), then the function should return False (identify the string as non-English), otherwise it should return True. Hint: use the [```ord()```  function](https://www.w3schools.com/python/ref_func_ord.asp)"
   ]
  },
  {
   "cell_type": "code",
   "execution_count": 13,
   "metadata": {},
   "outputs": [],
   "source": [
    "# For instance\n",
    "correct_english_name = \"Instachat 😜\"  # 1 character outside the ASCII range (😜)\n",
    "incorrect_english_name = \"爱奇艺PPS -《欢乐颂2》电视剧热播\" # 13 character outside the ASCII range (ie 播)"
   ]
  },
  {
   "cell_type": "code",
   "execution_count": 14,
   "metadata": {},
   "outputs": [
    {
     "name": "stdout",
     "output_type": "stream",
     "text": [
      "73\n",
      "116\n",
      "45\n",
      "128540\n",
      "29233\n"
     ]
    }
   ],
   "source": [
    "print(ord(\"I\"))\n",
    "print(ord(\"t\"))\n",
    "print(ord(\"-\"))\n",
    "print(ord(\"😜\"))\n",
    "print(ord(\"爱\"))"
   ]
  },
  {
   "cell_type": "code",
   "execution_count": 17,
   "metadata": {},
   "outputs": [
    {
     "name": "stdout",
     "output_type": "stream",
     "text": [
      "Google Apps - Total: 9659\n",
      "Google Apps - English: 9614\n",
      "\n",
      "Apple Apps - Total: 7197\n",
      "Apple Apps - English: 6183\n"
     ]
    }
   ],
   "source": [
    "# Solution\n",
    "def is_english(string):\n",
    "    \n",
    "    non_english_count = 0\n",
    "\n",
    "    for character in string:\n",
    "        if ord(character) > 127:\n",
    "            non_english_count += 1\n",
    "\n",
    "        if non_english_count > 3:\n",
    "            return False\n",
    "\n",
    "    return True\n",
    "\n",
    "def filter_english_apps(dataset, app_name_index):\n",
    "    \n",
    "    english_apps = [dataset[0]]  # Incluye el encabezado en la data filtrada\n",
    "\n",
    "    for row in dataset[1:]:\n",
    "        app_name = row[app_name_index]\n",
    "\n",
    "        if is_english(app_name):\n",
    "            english_apps.append(row)\n",
    "\n",
    "    return english_apps\n",
    "\n",
    "# Se aplica la función a cada dataset\n",
    "google_english_apps = filter_english_apps(nuevo_dataset, app_name_index=0)\n",
    "apple_english_apps = filter_english_apps(Apple, app_name_index=1)\n",
    "\n",
    "print(\"Google Apps - Total:\", len(nuevo_dataset)-1) # Excluye encabezado\n",
    "print(\"Google Apps - English:\", len(google_english_apps)-1) # Excluye encabezado\n",
    "\n",
    "print(\"\\nApple Apps - Total:\", len(Apple)-1) # Excluye encabezado\n",
    "print(\"Apple Apps - English:\", len(apple_english_apps)-1) # Excluye encabezado"
   ]
  },
  {
   "cell_type": "markdown",
   "metadata": {},
   "source": [
    "7. Loop through each dataset to isolate the free apps in separate lists. Make sure you identify the columns describing the app price correctly. Be careful, prices come up as strings ('0', $0.99, $2.99, etc.), so make sure you're not checking an integer or a float in your conditional statements. How many apps are free?\n"
   ]
  },
  {
   "cell_type": "code",
   "execution_count": 18,
   "metadata": {},
   "outputs": [
    {
     "name": "stdout",
     "output_type": "stream",
     "text": [
      "Google Free Apps - Count: 8864\n",
      "Apple Free Apps - Count: 0\n"
     ]
    }
   ],
   "source": [
    "# Solution\n",
    "def isolate_free_apps(dataset, price_column_name):\n",
    "    \n",
    "    free_apps = [dataset[0]]  # Incluye el encabezado en la data filtrada\n",
    "\n",
    "    for row in dataset[1:]:\n",
    "        price = row[price_column_name]\n",
    "\n",
    "        if price == '0' or price == '$0.0':\n",
    "            free_apps.append(row)\n",
    "\n",
    "    return free_apps\n",
    "\n",
    "# Identifica los índices de las columnas de los precios\n",
    "google_price_column_index = google_english_apps[0].index('Price')\n",
    "apple_price_column_index = apple_english_apps[0].index('price')\n",
    "\n",
    "# Aplica la función\n",
    "google_free_apps = isolate_free_apps(google_english_apps, price_column_name=google_price_column_index)\n",
    "apple_free_apps = isolate_free_apps(apple_english_apps, price_column_name=apple_price_column_index)\n",
    "\n",
    "print(\"Google Free Apps - Count:\", len(google_free_apps) - 1)\n",
    "print(\"Apple Free Apps - Count:\", len(apple_free_apps) - 1)"
   ]
  },
  {
   "cell_type": "markdown",
   "metadata": {},
   "source": [
    "## Exploring data"
   ]
  },
  {
   "cell_type": "markdown",
   "metadata": {},
   "source": [
    " 8. Build a frequency table for the ```prime_genre``` column of the App Store dataset, and the ```Genres``` and ```Category``` columns of the Google Play data set. What are the most common genres for each market? You must develop and deploy your function"
   ]
  },
  {
   "cell_type": "code",
   "execution_count": null,
   "metadata": {},
   "outputs": [],
   "source": [
    "# Solution"
   ]
  },
  {
   "cell_type": "markdown",
   "metadata": {},
   "source": [
    " 9. One way to find out what genres are the most popular (have the most users) is to calculate the average number of installs for each app genre. Based on that exercise, give one app profile recommendation for Google Play.\n",
    " \n",
    "    For the Google Play data set, we can find the required information in the ```Installs``` column. Then, compute the average number of installs by genre. Hint 1: consider only unique values of the ```Category``` column. Hint 2: If an app has, for instance, ```1,000,000+``` assume it as ```1,000,000``` installs. Hint 3: Be careful with a skewed distribution"
   ]
  },
  {
   "cell_type": "code",
   "execution_count": null,
   "metadata": {},
   "outputs": [],
   "source": [
    "# Solution"
   ]
  },
  {
   "cell_type": "markdown",
   "metadata": {},
   "source": [
    " 10. The App Store dataset doesn´t have the ```installs``` information. Then, you will construct the average rating from the ```rating_count_tot``` column per genre. Based on that exercise, give one app profile recommendation for the App Store"
   ]
  },
  {
   "cell_type": "code",
   "execution_count": null,
   "metadata": {},
   "outputs": [],
   "source": [
    "# Solution"
   ]
  }
 ],
 "metadata": {
  "hide_input": false,
  "kernelspec": {
   "display_name": "Python 3 (ipykernel)",
   "language": "python",
   "name": "python3"
  },
  "language_info": {
   "codemirror_mode": {
    "name": "ipython",
    "version": 3
   },
   "file_extension": ".py",
   "mimetype": "text/x-python",
   "name": "python",
   "nbconvert_exporter": "python",
   "pygments_lexer": "ipython3",
   "version": "3.9.7"
  },
  "toc": {
   "base_numbering": 1,
   "nav_menu": {},
   "number_sections": true,
   "sideBar": true,
   "skip_h1_title": false,
   "title_cell": "Table of Contents",
   "title_sidebar": "Contents",
   "toc_cell": false,
   "toc_position": {},
   "toc_section_display": true,
   "toc_window_display": false
  }
 },
 "nbformat": 4,
 "nbformat_minor": 4
}
